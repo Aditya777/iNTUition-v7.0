{
  "nbformat": 4,
  "nbformat_minor": 0,
  "metadata": {
    "colab": {
      "name": "Intuition2020.ipynb",
      "provenance": [],
      "collapsed_sections": []
    },
    "kernelspec": {
      "name": "python3",
      "display_name": "Python 3"
    }
  },
  "cells": [
    {
      "cell_type": "code",
      "metadata": {
        "colab": {
          "base_uri": "https://localhost:8080/"
        },
        "id": "lCVAdSh-4Xsc",
        "outputId": "2b837c16-79d2-41e5-8bd8-1a721e0b3bbd"
      },
      "source": [
        "from google.colab import drive\n",
        "drive.mount('/content/drive')"
      ],
      "execution_count": null,
      "outputs": [
        {
          "output_type": "stream",
          "text": [
            "Mounted at /content/drive\n"
          ],
          "name": "stdout"
        }
      ]
    },
    {
      "cell_type": "markdown",
      "metadata": {
        "id": "EBGneZhG5iiO"
      },
      "source": [
        "# Data Preprocessing and Architecture set-up"
      ]
    },
    {
      "cell_type": "code",
      "metadata": {
        "id": "wo-yMmi-xSr4"
      },
      "source": [
        "import os"
      ],
      "execution_count": null,
      "outputs": []
    },
    {
      "cell_type": "code",
      "metadata": {
        "id": "M_tqshbMwgcl"
      },
      "source": [
        "path = \"/content/drive/MyDrive/Intuition2021\"\n",
        "vaers_data_dir = os.path.join(path, '2021VAERSDATA.csv')\n",
        "vaers_symptom_dir = os.path.join(path, '2021VAERSSYMPTOMS.csv')\n",
        "vaers_vax_dir = os.path.join(path, '2021VAERSVAX.csv')"
      ],
      "execution_count": null,
      "outputs": []
    },
    {
      "cell_type": "code",
      "metadata": {
        "colab": {
          "base_uri": "https://localhost:8080/"
        },
        "id": "xmSvWJpU1XY0",
        "outputId": "221437dd-99bd-4d36-bbcd-f343a6d7b093"
      },
      "source": [
        "import chardet\n",
        "rawdata = open(vaers_data_dir, 'rb').read()\n",
        "result = chardet.detect(rawdata)\n",
        "charenc = result['encoding']\n",
        "print(charenc)"
      ],
      "execution_count": null,
      "outputs": [
        {
          "output_type": "stream",
          "text": [
            "Windows-1252\n"
          ],
          "name": "stdout"
        }
      ]
    },
    {
      "cell_type": "code",
      "metadata": {
        "id": "DyMO3gfyzR6B"
      },
      "source": [
        "import pandas as pd \n",
        "vaers_data = pd.read_csv(vaers_data_dir, encoding='Windows-1252')\n",
        "vaers_symptom = pd.read_csv(vaers_symptom_dir)\n",
        "vaers_vax = pd.read_csv(vaers_vax_dir)"
      ],
      "execution_count": null,
      "outputs": []
    },
    {
      "cell_type": "code",
      "metadata": {
        "colab": {
          "base_uri": "https://localhost:8080/",
          "height": 513
        },
        "id": "ENH6Ojzi11kV",
        "outputId": "f152a634-8b5c-4546-af8a-01e9eebce559"
      },
      "source": [
        "vaers_data.head()"
      ],
      "execution_count": null,
      "outputs": [
        {
          "output_type": "execute_result",
          "data": {
            "text/html": [
              "<div>\n",
              "<style scoped>\n",
              "    .dataframe tbody tr th:only-of-type {\n",
              "        vertical-align: middle;\n",
              "    }\n",
              "\n",
              "    .dataframe tbody tr th {\n",
              "        vertical-align: top;\n",
              "    }\n",
              "\n",
              "    .dataframe thead th {\n",
              "        text-align: right;\n",
              "    }\n",
              "</style>\n",
              "<table border=\"1\" class=\"dataframe\">\n",
              "  <thead>\n",
              "    <tr style=\"text-align: right;\">\n",
              "      <th></th>\n",
              "      <th>VAERS_ID</th>\n",
              "      <th>RECVDATE</th>\n",
              "      <th>STATE</th>\n",
              "      <th>AGE_YRS</th>\n",
              "      <th>CAGE_YR</th>\n",
              "      <th>CAGE_MO</th>\n",
              "      <th>SEX</th>\n",
              "      <th>RPT_DATE</th>\n",
              "      <th>SYMPTOM_TEXT</th>\n",
              "      <th>DIED</th>\n",
              "      <th>DATEDIED</th>\n",
              "      <th>L_THREAT</th>\n",
              "      <th>ER_VISIT</th>\n",
              "      <th>HOSPITAL</th>\n",
              "      <th>HOSPDAYS</th>\n",
              "      <th>X_STAY</th>\n",
              "      <th>DISABLE</th>\n",
              "      <th>RECOVD</th>\n",
              "      <th>VAX_DATE</th>\n",
              "      <th>ONSET_DATE</th>\n",
              "      <th>NUMDAYS</th>\n",
              "      <th>LAB_DATA</th>\n",
              "      <th>V_ADMINBY</th>\n",
              "      <th>V_FUNDBY</th>\n",
              "      <th>OTHER_MEDS</th>\n",
              "      <th>CUR_ILL</th>\n",
              "      <th>HISTORY</th>\n",
              "      <th>PRIOR_VAX</th>\n",
              "      <th>SPLTTYPE</th>\n",
              "      <th>FORM_VERS</th>\n",
              "      <th>TODAYS_DATE</th>\n",
              "      <th>BIRTH_DEFECT</th>\n",
              "      <th>OFC_VISIT</th>\n",
              "      <th>ER_ED_VISIT</th>\n",
              "      <th>ALLERGIES</th>\n",
              "    </tr>\n",
              "  </thead>\n",
              "  <tbody>\n",
              "    <tr>\n",
              "      <th>0</th>\n",
              "      <td>916710</td>\n",
              "      <td>01/01/2021</td>\n",
              "      <td>MO</td>\n",
              "      <td>23.0</td>\n",
              "      <td>23.0</td>\n",
              "      <td>NaN</td>\n",
              "      <td>F</td>\n",
              "      <td>NaN</td>\n",
              "      <td>Acute appendicitis, onset morning of 1/1/2021 ...</td>\n",
              "      <td>NaN</td>\n",
              "      <td>NaN</td>\n",
              "      <td>Y</td>\n",
              "      <td>NaN</td>\n",
              "      <td>Y</td>\n",
              "      <td>NaN</td>\n",
              "      <td>NaN</td>\n",
              "      <td>NaN</td>\n",
              "      <td>U</td>\n",
              "      <td>12/29/2020</td>\n",
              "      <td>01/01/2021</td>\n",
              "      <td>3.0</td>\n",
              "      <td>WBCs 13k, 4% Bands, CT with acute appendicitis...</td>\n",
              "      <td>PVT</td>\n",
              "      <td>NaN</td>\n",
              "      <td>Synthroid</td>\n",
              "      <td>NaN</td>\n",
              "      <td>Hypothyroidism</td>\n",
              "      <td>NaN</td>\n",
              "      <td>NaN</td>\n",
              "      <td>2</td>\n",
              "      <td>01/01/2021</td>\n",
              "      <td>NaN</td>\n",
              "      <td>NaN</td>\n",
              "      <td>Y</td>\n",
              "      <td>NKDA</td>\n",
              "    </tr>\n",
              "    <tr>\n",
              "      <th>1</th>\n",
              "      <td>916720</td>\n",
              "      <td>01/01/2021</td>\n",
              "      <td>NY</td>\n",
              "      <td>23.0</td>\n",
              "      <td>23.0</td>\n",
              "      <td>NaN</td>\n",
              "      <td>M</td>\n",
              "      <td>NaN</td>\n",
              "      <td>Patient made statements that he was having a h...</td>\n",
              "      <td>NaN</td>\n",
              "      <td>NaN</td>\n",
              "      <td>NaN</td>\n",
              "      <td>NaN</td>\n",
              "      <td>NaN</td>\n",
              "      <td>NaN</td>\n",
              "      <td>NaN</td>\n",
              "      <td>NaN</td>\n",
              "      <td>Y</td>\n",
              "      <td>12/31/2020</td>\n",
              "      <td>12/31/2020</td>\n",
              "      <td>0.0</td>\n",
              "      <td>NaN</td>\n",
              "      <td>PVT</td>\n",
              "      <td>NaN</td>\n",
              "      <td>NaN</td>\n",
              "      <td>NaN</td>\n",
              "      <td>NaN</td>\n",
              "      <td>unknown</td>\n",
              "      <td>NaN</td>\n",
              "      <td>2</td>\n",
              "      <td>01/01/2021</td>\n",
              "      <td>NaN</td>\n",
              "      <td>NaN</td>\n",
              "      <td>Y</td>\n",
              "      <td>NaN</td>\n",
              "    </tr>\n",
              "    <tr>\n",
              "      <th>2</th>\n",
              "      <td>916741</td>\n",
              "      <td>01/01/2021</td>\n",
              "      <td>AR</td>\n",
              "      <td>68.0</td>\n",
              "      <td>68.0</td>\n",
              "      <td>NaN</td>\n",
              "      <td>F</td>\n",
              "      <td>NaN</td>\n",
              "      <td>on dec 22 I felt some myalgias, chills, fatigu...</td>\n",
              "      <td>NaN</td>\n",
              "      <td>NaN</td>\n",
              "      <td>NaN</td>\n",
              "      <td>NaN</td>\n",
              "      <td>NaN</td>\n",
              "      <td>NaN</td>\n",
              "      <td>NaN</td>\n",
              "      <td>Y</td>\n",
              "      <td>N</td>\n",
              "      <td>12/21/2020</td>\n",
              "      <td>12/22/2020</td>\n",
              "      <td>1.0</td>\n",
              "      <td>Dec 29th - saw surgeon.  had xray and exam --d...</td>\n",
              "      <td>PVT</td>\n",
              "      <td>NaN</td>\n",
              "      <td>phenobarbital 60mg HS hydroxychloroquin  400mg...</td>\n",
              "      <td>had surgery R hand for advanced arthritis 11/1...</td>\n",
              "      <td>Rheumatoid arthritis - mostly affecting R wris...</td>\n",
              "      <td>NaN</td>\n",
              "      <td>NaN</td>\n",
              "      <td>2</td>\n",
              "      <td>01/01/2021</td>\n",
              "      <td>NaN</td>\n",
              "      <td>NaN</td>\n",
              "      <td>NaN</td>\n",
              "      <td>bee stings</td>\n",
              "    </tr>\n",
              "    <tr>\n",
              "      <th>3</th>\n",
              "      <td>916772</td>\n",
              "      <td>01/01/2021</td>\n",
              "      <td>GA</td>\n",
              "      <td>55.0</td>\n",
              "      <td>55.0</td>\n",
              "      <td>NaN</td>\n",
              "      <td>M</td>\n",
              "      <td>NaN</td>\n",
              "      <td>Vaccine on 12/22/2020 and started feeling bad ...</td>\n",
              "      <td>NaN</td>\n",
              "      <td>NaN</td>\n",
              "      <td>NaN</td>\n",
              "      <td>NaN</td>\n",
              "      <td>NaN</td>\n",
              "      <td>NaN</td>\n",
              "      <td>NaN</td>\n",
              "      <td>NaN</td>\n",
              "      <td>U</td>\n",
              "      <td>12/22/2020</td>\n",
              "      <td>12/26/2020</td>\n",
              "      <td>4.0</td>\n",
              "      <td>Tested positive for COVID 19 on 12/30/2020</td>\n",
              "      <td>PUB</td>\n",
              "      <td>NaN</td>\n",
              "      <td>Propranolol,zoloft,asa,Lisinipril, Crestor, Pr...</td>\n",
              "      <td>NaN</td>\n",
              "      <td>HTN, Insomnia,High Cholesterol,</td>\n",
              "      <td>NaN</td>\n",
              "      <td>NaN</td>\n",
              "      <td>2</td>\n",
              "      <td>01/01/2021</td>\n",
              "      <td>NaN</td>\n",
              "      <td>Y</td>\n",
              "      <td>NaN</td>\n",
              "      <td>Codeine</td>\n",
              "    </tr>\n",
              "    <tr>\n",
              "      <th>4</th>\n",
              "      <td>916790</td>\n",
              "      <td>01/01/2021</td>\n",
              "      <td>TN</td>\n",
              "      <td>52.0</td>\n",
              "      <td>52.0</td>\n",
              "      <td>NaN</td>\n",
              "      <td>F</td>\n",
              "      <td>NaN</td>\n",
              "      <td>Flushing, sweating, increased heart rate proce...</td>\n",
              "      <td>NaN</td>\n",
              "      <td>NaN</td>\n",
              "      <td>Y</td>\n",
              "      <td>NaN</td>\n",
              "      <td>NaN</td>\n",
              "      <td>NaN</td>\n",
              "      <td>NaN</td>\n",
              "      <td>NaN</td>\n",
              "      <td>U</td>\n",
              "      <td>12/26/2020</td>\n",
              "      <td>12/26/2020</td>\n",
              "      <td>0.0</td>\n",
              "      <td>Solu-Medrol, Benadryl IV, Pepcid IV, and EKG m...</td>\n",
              "      <td>PVT</td>\n",
              "      <td>NaN</td>\n",
              "      <td>Estradiol, topiramate, Emgality, sumatriptan, ...</td>\n",
              "      <td>NaN</td>\n",
              "      <td>Asthma, migraines</td>\n",
              "      <td>NaN</td>\n",
              "      <td>NaN</td>\n",
              "      <td>2</td>\n",
              "      <td>01/01/2021</td>\n",
              "      <td>NaN</td>\n",
              "      <td>NaN</td>\n",
              "      <td>Y</td>\n",
              "      <td>Sulfa, shellfish</td>\n",
              "    </tr>\n",
              "  </tbody>\n",
              "</table>\n",
              "</div>"
            ],
            "text/plain": [
              "   VAERS_ID    RECVDATE STATE  ...  OFC_VISIT  ER_ED_VISIT         ALLERGIES\n",
              "0    916710  01/01/2021    MO  ...        NaN            Y              NKDA\n",
              "1    916720  01/01/2021    NY  ...        NaN            Y               NaN\n",
              "2    916741  01/01/2021    AR  ...        NaN          NaN        bee stings\n",
              "3    916772  01/01/2021    GA  ...          Y          NaN           Codeine\n",
              "4    916790  01/01/2021    TN  ...        NaN            Y  Sulfa, shellfish\n",
              "\n",
              "[5 rows x 35 columns]"
            ]
          },
          "metadata": {
            "tags": []
          },
          "execution_count": 12
        }
      ]
    },
    {
      "cell_type": "code",
      "metadata": {
        "colab": {
          "base_uri": "https://localhost:8080/",
          "height": 617
        },
        "id": "0ethcqdq0NC1",
        "outputId": "371b81fd-3f0f-4813-e538-bc78d732e320"
      },
      "source": [
        "vaers_symptom.head(10)"
      ],
      "execution_count": null,
      "outputs": [
        {
          "output_type": "execute_result",
          "data": {
            "text/html": [
              "<div>\n",
              "<style scoped>\n",
              "    .dataframe tbody tr th:only-of-type {\n",
              "        vertical-align: middle;\n",
              "    }\n",
              "\n",
              "    .dataframe tbody tr th {\n",
              "        vertical-align: top;\n",
              "    }\n",
              "\n",
              "    .dataframe thead th {\n",
              "        text-align: right;\n",
              "    }\n",
              "</style>\n",
              "<table border=\"1\" class=\"dataframe\">\n",
              "  <thead>\n",
              "    <tr style=\"text-align: right;\">\n",
              "      <th></th>\n",
              "      <th>VAERS_ID</th>\n",
              "      <th>SYMPTOM1</th>\n",
              "      <th>SYMPTOMVERSION1</th>\n",
              "      <th>SYMPTOM2</th>\n",
              "      <th>SYMPTOMVERSION2</th>\n",
              "      <th>SYMPTOM3</th>\n",
              "      <th>SYMPTOMVERSION3</th>\n",
              "      <th>SYMPTOM4</th>\n",
              "      <th>SYMPTOMVERSION4</th>\n",
              "      <th>SYMPTOM5</th>\n",
              "      <th>SYMPTOMVERSION5</th>\n",
              "    </tr>\n",
              "  </thead>\n",
              "  <tbody>\n",
              "    <tr>\n",
              "      <th>0</th>\n",
              "      <td>916710</td>\n",
              "      <td>Appendicitis</td>\n",
              "      <td>23.1</td>\n",
              "      <td>Band neutrophil percentage increased</td>\n",
              "      <td>23.1</td>\n",
              "      <td>Surgery</td>\n",
              "      <td>23.1</td>\n",
              "      <td>White blood cell count increased</td>\n",
              "      <td>23.1</td>\n",
              "      <td>NaN</td>\n",
              "      <td>NaN</td>\n",
              "    </tr>\n",
              "    <tr>\n",
              "      <th>1</th>\n",
              "      <td>916720</td>\n",
              "      <td>Dysphagia</td>\n",
              "      <td>23.1</td>\n",
              "      <td>Dyspnoea</td>\n",
              "      <td>23.1</td>\n",
              "      <td>NaN</td>\n",
              "      <td>NaN</td>\n",
              "      <td>NaN</td>\n",
              "      <td>NaN</td>\n",
              "      <td>NaN</td>\n",
              "      <td>NaN</td>\n",
              "    </tr>\n",
              "    <tr>\n",
              "      <th>2</th>\n",
              "      <td>916741</td>\n",
              "      <td>Chills</td>\n",
              "      <td>23.1</td>\n",
              "      <td>Complex regional pain syndrome</td>\n",
              "      <td>23.1</td>\n",
              "      <td>Fatigue</td>\n",
              "      <td>23.1</td>\n",
              "      <td>Headache</td>\n",
              "      <td>23.1</td>\n",
              "      <td>Joint range of motion decreased</td>\n",
              "      <td>23.1</td>\n",
              "    </tr>\n",
              "    <tr>\n",
              "      <th>3</th>\n",
              "      <td>916741</td>\n",
              "      <td>Myalgia</td>\n",
              "      <td>23.1</td>\n",
              "      <td>Pain in extremity</td>\n",
              "      <td>23.1</td>\n",
              "      <td>Peripheral swelling</td>\n",
              "      <td>23.1</td>\n",
              "      <td>X-ray abnormal</td>\n",
              "      <td>23.1</td>\n",
              "      <td>NaN</td>\n",
              "      <td>NaN</td>\n",
              "    </tr>\n",
              "    <tr>\n",
              "      <th>4</th>\n",
              "      <td>916772</td>\n",
              "      <td>Feeling abnormal</td>\n",
              "      <td>23.1</td>\n",
              "      <td>SARS-CoV-2 test positive</td>\n",
              "      <td>23.1</td>\n",
              "      <td>NaN</td>\n",
              "      <td>NaN</td>\n",
              "      <td>NaN</td>\n",
              "      <td>NaN</td>\n",
              "      <td>NaN</td>\n",
              "      <td>NaN</td>\n",
              "    </tr>\n",
              "    <tr>\n",
              "      <th>5</th>\n",
              "      <td>916790</td>\n",
              "      <td>Blood pressure diastolic increased</td>\n",
              "      <td>23.1</td>\n",
              "      <td>Blood pressure systolic increased</td>\n",
              "      <td>23.1</td>\n",
              "      <td>Chest discomfort</td>\n",
              "      <td>23.1</td>\n",
              "      <td>Dizziness</td>\n",
              "      <td>23.1</td>\n",
              "      <td>Dysphagia</td>\n",
              "      <td>23.1</td>\n",
              "    </tr>\n",
              "    <tr>\n",
              "      <th>6</th>\n",
              "      <td>916790</td>\n",
              "      <td>Electrocardiogram</td>\n",
              "      <td>23.1</td>\n",
              "      <td>Flushing</td>\n",
              "      <td>23.1</td>\n",
              "      <td>Heart rate increased</td>\n",
              "      <td>23.1</td>\n",
              "      <td>Hyperhidrosis</td>\n",
              "      <td>23.1</td>\n",
              "      <td>Malaise</td>\n",
              "      <td>23.1</td>\n",
              "    </tr>\n",
              "    <tr>\n",
              "      <th>7</th>\n",
              "      <td>916790</td>\n",
              "      <td>Nausea</td>\n",
              "      <td>23.1</td>\n",
              "      <td>Speech disorder</td>\n",
              "      <td>23.1</td>\n",
              "      <td>Throat clearing</td>\n",
              "      <td>23.1</td>\n",
              "      <td>NaN</td>\n",
              "      <td>NaN</td>\n",
              "      <td>NaN</td>\n",
              "      <td>NaN</td>\n",
              "    </tr>\n",
              "    <tr>\n",
              "      <th>8</th>\n",
              "      <td>916803</td>\n",
              "      <td>Death</td>\n",
              "      <td>23.1</td>\n",
              "      <td>Pneumothorax</td>\n",
              "      <td>23.1</td>\n",
              "      <td>NaN</td>\n",
              "      <td>NaN</td>\n",
              "      <td>NaN</td>\n",
              "      <td>NaN</td>\n",
              "      <td>NaN</td>\n",
              "      <td>NaN</td>\n",
              "    </tr>\n",
              "    <tr>\n",
              "      <th>9</th>\n",
              "      <td>916809</td>\n",
              "      <td>Blepharospasm</td>\n",
              "      <td>23.1</td>\n",
              "      <td>Chest discomfort</td>\n",
              "      <td>23.1</td>\n",
              "      <td>Computerised tomogram</td>\n",
              "      <td>23.1</td>\n",
              "      <td>Dizziness</td>\n",
              "      <td>23.1</td>\n",
              "      <td>Dyspnoea</td>\n",
              "      <td>23.1</td>\n",
              "    </tr>\n",
              "  </tbody>\n",
              "</table>\n",
              "</div>"
            ],
            "text/plain": [
              "   VAERS_ID  ... SYMPTOMVERSION5\n",
              "0    916710  ...             NaN\n",
              "1    916720  ...             NaN\n",
              "2    916741  ...            23.1\n",
              "3    916741  ...             NaN\n",
              "4    916772  ...             NaN\n",
              "5    916790  ...            23.1\n",
              "6    916790  ...            23.1\n",
              "7    916790  ...             NaN\n",
              "8    916803  ...             NaN\n",
              "9    916809  ...            23.1\n",
              "\n",
              "[10 rows x 11 columns]"
            ]
          },
          "metadata": {
            "tags": []
          },
          "execution_count": 13
        }
      ]
    },
    {
      "cell_type": "code",
      "metadata": {
        "colab": {
          "base_uri": "https://localhost:8080/",
          "height": 204
        },
        "id": "EVXiGs7tZb5Y",
        "outputId": "d103158f-f21a-4450-afd3-4cb49b7129bc"
      },
      "source": [
        "vaers_vax.head()"
      ],
      "execution_count": null,
      "outputs": [
        {
          "output_type": "execute_result",
          "data": {
            "text/html": [
              "<div>\n",
              "<style scoped>\n",
              "    .dataframe tbody tr th:only-of-type {\n",
              "        vertical-align: middle;\n",
              "    }\n",
              "\n",
              "    .dataframe tbody tr th {\n",
              "        vertical-align: top;\n",
              "    }\n",
              "\n",
              "    .dataframe thead th {\n",
              "        text-align: right;\n",
              "    }\n",
              "</style>\n",
              "<table border=\"1\" class=\"dataframe\">\n",
              "  <thead>\n",
              "    <tr style=\"text-align: right;\">\n",
              "      <th></th>\n",
              "      <th>VAERS_ID</th>\n",
              "      <th>VAX_TYPE</th>\n",
              "      <th>VAX_MANU</th>\n",
              "      <th>VAX_LOT</th>\n",
              "      <th>VAX_DOSE_SERIES</th>\n",
              "      <th>VAX_ROUTE</th>\n",
              "      <th>VAX_SITE</th>\n",
              "      <th>VAX_NAME</th>\n",
              "    </tr>\n",
              "  </thead>\n",
              "  <tbody>\n",
              "    <tr>\n",
              "      <th>0</th>\n",
              "      <td>916710</td>\n",
              "      <td>COVID19</td>\n",
              "      <td>MODERNA</td>\n",
              "      <td>NaN</td>\n",
              "      <td>1</td>\n",
              "      <td>IM</td>\n",
              "      <td>LA</td>\n",
              "      <td>COVID19 (COVID19 (MODERNA))</td>\n",
              "    </tr>\n",
              "    <tr>\n",
              "      <th>1</th>\n",
              "      <td>916720</td>\n",
              "      <td>COVID19</td>\n",
              "      <td>MODERNA</td>\n",
              "      <td>011L20A</td>\n",
              "      <td>1</td>\n",
              "      <td>IM</td>\n",
              "      <td>AR</td>\n",
              "      <td>COVID19 (COVID19 (MODERNA))</td>\n",
              "    </tr>\n",
              "    <tr>\n",
              "      <th>2</th>\n",
              "      <td>916741</td>\n",
              "      <td>COVID19</td>\n",
              "      <td>PFIZER\\BIONTECH</td>\n",
              "      <td>EH9899</td>\n",
              "      <td>1</td>\n",
              "      <td>SYR</td>\n",
              "      <td>LA</td>\n",
              "      <td>COVID19 (COVID19 (PFIZER-BIONTECH))</td>\n",
              "    </tr>\n",
              "    <tr>\n",
              "      <th>3</th>\n",
              "      <td>916772</td>\n",
              "      <td>COVID19</td>\n",
              "      <td>PFIZER\\BIONTECH</td>\n",
              "      <td>EJ1685</td>\n",
              "      <td>UNK</td>\n",
              "      <td>IM</td>\n",
              "      <td>LA</td>\n",
              "      <td>COVID19 (COVID19 (PFIZER-BIONTECH))</td>\n",
              "    </tr>\n",
              "    <tr>\n",
              "      <th>4</th>\n",
              "      <td>916790</td>\n",
              "      <td>COVID19</td>\n",
              "      <td>PFIZER\\BIONTECH</td>\n",
              "      <td>NaN</td>\n",
              "      <td>1</td>\n",
              "      <td>IM</td>\n",
              "      <td>RA</td>\n",
              "      <td>COVID19 (COVID19 (PFIZER-BIONTECH))</td>\n",
              "    </tr>\n",
              "  </tbody>\n",
              "</table>\n",
              "</div>"
            ],
            "text/plain": [
              "   VAERS_ID VAX_TYPE  ... VAX_SITE                             VAX_NAME\n",
              "0    916710  COVID19  ...       LA          COVID19 (COVID19 (MODERNA))\n",
              "1    916720  COVID19  ...       AR          COVID19 (COVID19 (MODERNA))\n",
              "2    916741  COVID19  ...       LA  COVID19 (COVID19 (PFIZER-BIONTECH))\n",
              "3    916772  COVID19  ...       LA  COVID19 (COVID19 (PFIZER-BIONTECH))\n",
              "4    916790  COVID19  ...       RA  COVID19 (COVID19 (PFIZER-BIONTECH))\n",
              "\n",
              "[5 rows x 8 columns]"
            ]
          },
          "metadata": {
            "tags": []
          },
          "execution_count": 14
        }
      ]
    },
    {
      "cell_type": "code",
      "metadata": {
        "colab": {
          "base_uri": "https://localhost:8080/"
        },
        "id": "qtYNGZLW8jsq",
        "outputId": "2d2839ed-177c-4bb1-9fc2-738e64dec503"
      },
      "source": [
        "vaers_symptom.dtypes"
      ],
      "execution_count": null,
      "outputs": [
        {
          "output_type": "execute_result",
          "data": {
            "text/plain": [
              "VAERS_ID             int64\n",
              "SYMPTOM1            object\n",
              "SYMPTOMVERSION1    float64\n",
              "SYMPTOM2            object\n",
              "SYMPTOMVERSION2    float64\n",
              "SYMPTOM3            object\n",
              "SYMPTOMVERSION3    float64\n",
              "SYMPTOM4            object\n",
              "SYMPTOMVERSION4    float64\n",
              "SYMPTOM5            object\n",
              "SYMPTOMVERSION5    float64\n",
              "dtype: object"
            ]
          },
          "metadata": {
            "tags": []
          },
          "execution_count": 49
        }
      ]
    },
    {
      "cell_type": "code",
      "metadata": {
        "colab": {
          "base_uri": "https://localhost:8080/",
          "height": 199
        },
        "id": "EnucnG1S5Lzv",
        "outputId": "472206e1-40b2-4f87-ff61-055afd2caf38"
      },
      "source": [
        "vaers_symptom[vaers_symptom['VAERS_ID'] == 916741]"
      ],
      "execution_count": null,
      "outputs": [
        {
          "output_type": "execute_result",
          "data": {
            "text/html": [
              "<div>\n",
              "<style scoped>\n",
              "    .dataframe tbody tr th:only-of-type {\n",
              "        vertical-align: middle;\n",
              "    }\n",
              "\n",
              "    .dataframe tbody tr th {\n",
              "        vertical-align: top;\n",
              "    }\n",
              "\n",
              "    .dataframe thead th {\n",
              "        text-align: right;\n",
              "    }\n",
              "</style>\n",
              "<table border=\"1\" class=\"dataframe\">\n",
              "  <thead>\n",
              "    <tr style=\"text-align: right;\">\n",
              "      <th></th>\n",
              "      <th>VAERS_ID</th>\n",
              "      <th>SYMPTOM1</th>\n",
              "      <th>SYMPTOMVERSION1</th>\n",
              "      <th>SYMPTOM2</th>\n",
              "      <th>SYMPTOMVERSION2</th>\n",
              "      <th>SYMPTOM3</th>\n",
              "      <th>SYMPTOMVERSION3</th>\n",
              "      <th>SYMPTOM4</th>\n",
              "      <th>SYMPTOMVERSION4</th>\n",
              "      <th>SYMPTOM5</th>\n",
              "      <th>SYMPTOMVERSION5</th>\n",
              "    </tr>\n",
              "  </thead>\n",
              "  <tbody>\n",
              "    <tr>\n",
              "      <th>2</th>\n",
              "      <td>916741</td>\n",
              "      <td>Chills</td>\n",
              "      <td>23.1</td>\n",
              "      <td>Complex regional pain syndrome</td>\n",
              "      <td>23.1</td>\n",
              "      <td>Fatigue</td>\n",
              "      <td>23.1</td>\n",
              "      <td>Headache</td>\n",
              "      <td>23.1</td>\n",
              "      <td>Joint range of motion decreased</td>\n",
              "      <td>23.1</td>\n",
              "    </tr>\n",
              "    <tr>\n",
              "      <th>3</th>\n",
              "      <td>916741</td>\n",
              "      <td>Myalgia</td>\n",
              "      <td>23.1</td>\n",
              "      <td>Pain in extremity</td>\n",
              "      <td>23.1</td>\n",
              "      <td>Peripheral swelling</td>\n",
              "      <td>23.1</td>\n",
              "      <td>X-ray abnormal</td>\n",
              "      <td>23.1</td>\n",
              "      <td>NaN</td>\n",
              "      <td>NaN</td>\n",
              "    </tr>\n",
              "  </tbody>\n",
              "</table>\n",
              "</div>"
            ],
            "text/plain": [
              "   VAERS_ID SYMPTOM1  ...                         SYMPTOM5 SYMPTOMVERSION5\n",
              "2    916741   Chills  ...  Joint range of motion decreased            23.1\n",
              "3    916741  Myalgia  ...                              NaN             NaN\n",
              "\n",
              "[2 rows x 11 columns]"
            ]
          },
          "metadata": {
            "tags": []
          },
          "execution_count": 51
        }
      ]
    },
    {
      "cell_type": "code",
      "metadata": {
        "colab": {
          "base_uri": "https://localhost:8080/"
        },
        "id": "0DhMtFpa90Ev",
        "outputId": "89370c8b-5bd1-4024-c32c-f3e32abd6e8d"
      },
      "source": [
        "print(vaers_symptom['VAERS_ID'].diff(periods=-1))"
      ],
      "execution_count": null,
      "outputs": [
        {
          "output_type": "stream",
          "text": [
            "0      -10.0\n",
            "1      -21.0\n",
            "2        0.0\n",
            "3      -31.0\n",
            "4      -18.0\n",
            "        ... \n",
            "8635     0.0\n",
            "8636     0.0\n",
            "8637   -36.0\n",
            "8638     0.0\n",
            "8639     NaN\n",
            "Name: VAERS_ID, Length: 8640, dtype: float64\n"
          ],
          "name": "stdout"
        }
      ]
    },
    {
      "cell_type": "code",
      "metadata": {
        "id": "58byC5Jj_DB4"
      },
      "source": [
        "tmp = vaers_symptom['VAERS_ID'].diff(periods=-1)\n",
        "tmp2 = []"
      ],
      "execution_count": null,
      "outputs": []
    },
    {
      "cell_type": "code",
      "metadata": {
        "id": "laA6M5QI_Hg0"
      },
      "source": [
        "for i in range(len(tmp)):\n",
        "  if tmp[i] == 0:\n",
        "    tmp2.append(i)"
      ],
      "execution_count": null,
      "outputs": []
    },
    {
      "cell_type": "code",
      "metadata": {
        "id": "5wCOFZJNAaMk"
      },
      "source": [
        "vaers_symptom = vaers_symptom.drop(vaers_symptom.index[tmp2])"
      ],
      "execution_count": null,
      "outputs": []
    },
    {
      "cell_type": "code",
      "metadata": {
        "colab": {
          "base_uri": "https://localhost:8080/",
          "height": 592
        },
        "id": "62vDK7Q6C8qb",
        "outputId": "3660d7cd-112c-4b38-84b4-97a7ada6baea"
      },
      "source": [
        "vaers_symptom"
      ],
      "execution_count": null,
      "outputs": [
        {
          "output_type": "execute_result",
          "data": {
            "text/html": [
              "<div>\n",
              "<style scoped>\n",
              "    .dataframe tbody tr th:only-of-type {\n",
              "        vertical-align: middle;\n",
              "    }\n",
              "\n",
              "    .dataframe tbody tr th {\n",
              "        vertical-align: top;\n",
              "    }\n",
              "\n",
              "    .dataframe thead th {\n",
              "        text-align: right;\n",
              "    }\n",
              "</style>\n",
              "<table border=\"1\" class=\"dataframe\">\n",
              "  <thead>\n",
              "    <tr style=\"text-align: right;\">\n",
              "      <th></th>\n",
              "      <th>VAERS_ID</th>\n",
              "      <th>SYMPTOM1</th>\n",
              "      <th>SYMPTOMVERSION1</th>\n",
              "      <th>SYMPTOM2</th>\n",
              "      <th>SYMPTOMVERSION2</th>\n",
              "      <th>SYMPTOM3</th>\n",
              "      <th>SYMPTOMVERSION3</th>\n",
              "      <th>SYMPTOM4</th>\n",
              "      <th>SYMPTOMVERSION4</th>\n",
              "      <th>SYMPTOM5</th>\n",
              "      <th>SYMPTOMVERSION5</th>\n",
              "    </tr>\n",
              "  </thead>\n",
              "  <tbody>\n",
              "    <tr>\n",
              "      <th>0</th>\n",
              "      <td>916710</td>\n",
              "      <td>Appendicitis</td>\n",
              "      <td>23.1</td>\n",
              "      <td>Band neutrophil percentage increased</td>\n",
              "      <td>23.1</td>\n",
              "      <td>Surgery</td>\n",
              "      <td>23.1</td>\n",
              "      <td>White blood cell count increased</td>\n",
              "      <td>23.1</td>\n",
              "      <td>NaN</td>\n",
              "      <td>NaN</td>\n",
              "    </tr>\n",
              "    <tr>\n",
              "      <th>1</th>\n",
              "      <td>916720</td>\n",
              "      <td>Dysphagia</td>\n",
              "      <td>23.1</td>\n",
              "      <td>Dyspnoea</td>\n",
              "      <td>23.1</td>\n",
              "      <td>NaN</td>\n",
              "      <td>NaN</td>\n",
              "      <td>NaN</td>\n",
              "      <td>NaN</td>\n",
              "      <td>NaN</td>\n",
              "      <td>NaN</td>\n",
              "    </tr>\n",
              "    <tr>\n",
              "      <th>3</th>\n",
              "      <td>916741</td>\n",
              "      <td>Myalgia</td>\n",
              "      <td>23.1</td>\n",
              "      <td>Pain in extremity</td>\n",
              "      <td>23.1</td>\n",
              "      <td>Peripheral swelling</td>\n",
              "      <td>23.1</td>\n",
              "      <td>X-ray abnormal</td>\n",
              "      <td>23.1</td>\n",
              "      <td>NaN</td>\n",
              "      <td>NaN</td>\n",
              "    </tr>\n",
              "    <tr>\n",
              "      <th>4</th>\n",
              "      <td>916772</td>\n",
              "      <td>Feeling abnormal</td>\n",
              "      <td>23.1</td>\n",
              "      <td>SARS-CoV-2 test positive</td>\n",
              "      <td>23.1</td>\n",
              "      <td>NaN</td>\n",
              "      <td>NaN</td>\n",
              "      <td>NaN</td>\n",
              "      <td>NaN</td>\n",
              "      <td>NaN</td>\n",
              "      <td>NaN</td>\n",
              "    </tr>\n",
              "    <tr>\n",
              "      <th>7</th>\n",
              "      <td>916790</td>\n",
              "      <td>Nausea</td>\n",
              "      <td>23.1</td>\n",
              "      <td>Speech disorder</td>\n",
              "      <td>23.1</td>\n",
              "      <td>Throat clearing</td>\n",
              "      <td>23.1</td>\n",
              "      <td>NaN</td>\n",
              "      <td>NaN</td>\n",
              "      <td>NaN</td>\n",
              "      <td>NaN</td>\n",
              "    </tr>\n",
              "    <tr>\n",
              "      <th>...</th>\n",
              "      <td>...</td>\n",
              "      <td>...</td>\n",
              "      <td>...</td>\n",
              "      <td>...</td>\n",
              "      <td>...</td>\n",
              "      <td>...</td>\n",
              "      <td>...</td>\n",
              "      <td>...</td>\n",
              "      <td>...</td>\n",
              "      <td>...</td>\n",
              "      <td>...</td>\n",
              "    </tr>\n",
              "    <tr>\n",
              "      <th>8632</th>\n",
              "      <td>1024788</td>\n",
              "      <td>Death</td>\n",
              "      <td>23.1</td>\n",
              "      <td>NaN</td>\n",
              "      <td>NaN</td>\n",
              "      <td>NaN</td>\n",
              "      <td>NaN</td>\n",
              "      <td>NaN</td>\n",
              "      <td>NaN</td>\n",
              "      <td>NaN</td>\n",
              "      <td>NaN</td>\n",
              "    </tr>\n",
              "    <tr>\n",
              "      <th>8633</th>\n",
              "      <td>1024790</td>\n",
              "      <td>Death</td>\n",
              "      <td>23.1</td>\n",
              "      <td>NaN</td>\n",
              "      <td>NaN</td>\n",
              "      <td>NaN</td>\n",
              "      <td>NaN</td>\n",
              "      <td>NaN</td>\n",
              "      <td>NaN</td>\n",
              "      <td>NaN</td>\n",
              "      <td>NaN</td>\n",
              "    </tr>\n",
              "    <tr>\n",
              "      <th>8634</th>\n",
              "      <td>1024795</td>\n",
              "      <td>Death</td>\n",
              "      <td>23.1</td>\n",
              "      <td>NaN</td>\n",
              "      <td>NaN</td>\n",
              "      <td>NaN</td>\n",
              "      <td>NaN</td>\n",
              "      <td>NaN</td>\n",
              "      <td>NaN</td>\n",
              "      <td>NaN</td>\n",
              "      <td>NaN</td>\n",
              "    </tr>\n",
              "    <tr>\n",
              "      <th>8637</th>\n",
              "      <td>1024817</td>\n",
              "      <td>Respiratory arrest</td>\n",
              "      <td>23.1</td>\n",
              "      <td>Resuscitation</td>\n",
              "      <td>23.1</td>\n",
              "      <td>Seizure like phenomena</td>\n",
              "      <td>23.1</td>\n",
              "      <td>Unresponsive to stimuli</td>\n",
              "      <td>23.1</td>\n",
              "      <td>Ventricular fibrillation</td>\n",
              "      <td>23.1</td>\n",
              "    </tr>\n",
              "    <tr>\n",
              "      <th>8639</th>\n",
              "      <td>1024853</td>\n",
              "      <td>Nasopharyngitis</td>\n",
              "      <td>23.1</td>\n",
              "      <td>Nausea</td>\n",
              "      <td>23.1</td>\n",
              "      <td>SARS-CoV-2 test negative</td>\n",
              "      <td>23.1</td>\n",
              "      <td>NaN</td>\n",
              "      <td>NaN</td>\n",
              "      <td>NaN</td>\n",
              "      <td>NaN</td>\n",
              "    </tr>\n",
              "  </tbody>\n",
              "</table>\n",
              "<p>5351 rows × 11 columns</p>\n",
              "</div>"
            ],
            "text/plain": [
              "      VAERS_ID            SYMPTOM1  ...                  SYMPTOM5 SYMPTOMVERSION5\n",
              "0       916710        Appendicitis  ...                       NaN             NaN\n",
              "1       916720           Dysphagia  ...                       NaN             NaN\n",
              "3       916741             Myalgia  ...                       NaN             NaN\n",
              "4       916772    Feeling abnormal  ...                       NaN             NaN\n",
              "7       916790              Nausea  ...                       NaN             NaN\n",
              "...        ...                 ...  ...                       ...             ...\n",
              "8632   1024788               Death  ...                       NaN             NaN\n",
              "8633   1024790               Death  ...                       NaN             NaN\n",
              "8634   1024795               Death  ...                       NaN             NaN\n",
              "8637   1024817  Respiratory arrest  ...  Ventricular fibrillation            23.1\n",
              "8639   1024853     Nasopharyngitis  ...                       NaN             NaN\n",
              "\n",
              "[5351 rows x 11 columns]"
            ]
          },
          "metadata": {
            "tags": []
          },
          "execution_count": 20
        }
      ]
    },
    {
      "cell_type": "code",
      "metadata": {
        "colab": {
          "base_uri": "https://localhost:8080/"
        },
        "id": "cOpJn_VIC-oH",
        "outputId": "e9e6dc48-b2d3-4855-d520-4e922ffb8c92"
      },
      "source": [
        "len(vaers_symptom) == len(vaers_data)"
      ],
      "execution_count": null,
      "outputs": [
        {
          "output_type": "execute_result",
          "data": {
            "text/plain": [
              "True"
            ]
          },
          "metadata": {
            "tags": []
          },
          "execution_count": 21
        }
      ]
    },
    {
      "cell_type": "code",
      "metadata": {
        "id": "sFxyTo6wEcN9"
      },
      "source": [
        "vaers_merge = pd.merge(vaers_data, vaers_symptom, on='VAERS_ID')"
      ],
      "execution_count": null,
      "outputs": []
    },
    {
      "cell_type": "code",
      "metadata": {
        "id": "F7WL5hG5H-eR"
      },
      "source": [
        "AGE_YRS, SEX,"
      ],
      "execution_count": null,
      "outputs": []
    },
    {
      "cell_type": "code",
      "metadata": {
        "id": "y7ciTo71Fex4"
      },
      "source": [
        "vaers_merge.head(50)"
      ],
      "execution_count": null,
      "outputs": []
    },
    {
      "cell_type": "code",
      "metadata": {
        "colab": {
          "base_uri": "https://localhost:8080/"
        },
        "id": "EOm2bpPcZ_G5",
        "outputId": "8ba926b4-d67f-4798-d09d-2e867fc146a5"
      },
      "source": [
        "len(vaers_merge)"
      ],
      "execution_count": null,
      "outputs": [
        {
          "output_type": "execute_result",
          "data": {
            "text/plain": [
              "5351"
            ]
          },
          "metadata": {
            "tags": []
          },
          "execution_count": 183
        }
      ]
    },
    {
      "cell_type": "code",
      "metadata": {
        "colab": {
          "base_uri": "https://localhost:8080/",
          "height": 1000
        },
        "id": "5AWxaawuaovD",
        "outputId": "ae4991ad-8dcb-4550-fc4c-c3baf948e73f"
      },
      "source": [
        "vaers_vax.head(30)"
      ],
      "execution_count": null,
      "outputs": [
        {
          "output_type": "execute_result",
          "data": {
            "text/html": [
              "<div>\n",
              "<style scoped>\n",
              "    .dataframe tbody tr th:only-of-type {\n",
              "        vertical-align: middle;\n",
              "    }\n",
              "\n",
              "    .dataframe tbody tr th {\n",
              "        vertical-align: top;\n",
              "    }\n",
              "\n",
              "    .dataframe thead th {\n",
              "        text-align: right;\n",
              "    }\n",
              "</style>\n",
              "<table border=\"1\" class=\"dataframe\">\n",
              "  <thead>\n",
              "    <tr style=\"text-align: right;\">\n",
              "      <th></th>\n",
              "      <th>VAERS_ID</th>\n",
              "      <th>VAX_TYPE</th>\n",
              "      <th>VAX_MANU</th>\n",
              "      <th>VAX_LOT</th>\n",
              "      <th>VAX_DOSE_SERIES</th>\n",
              "      <th>VAX_ROUTE</th>\n",
              "      <th>VAX_SITE</th>\n",
              "      <th>VAX_NAME</th>\n",
              "    </tr>\n",
              "  </thead>\n",
              "  <tbody>\n",
              "    <tr>\n",
              "      <th>0</th>\n",
              "      <td>916710</td>\n",
              "      <td>COVID19</td>\n",
              "      <td>MODERNA</td>\n",
              "      <td>NaN</td>\n",
              "      <td>1</td>\n",
              "      <td>IM</td>\n",
              "      <td>LA</td>\n",
              "      <td>COVID19 (COVID19 (MODERNA))</td>\n",
              "    </tr>\n",
              "    <tr>\n",
              "      <th>1</th>\n",
              "      <td>916720</td>\n",
              "      <td>COVID19</td>\n",
              "      <td>MODERNA</td>\n",
              "      <td>011L20A</td>\n",
              "      <td>1</td>\n",
              "      <td>IM</td>\n",
              "      <td>AR</td>\n",
              "      <td>COVID19 (COVID19 (MODERNA))</td>\n",
              "    </tr>\n",
              "    <tr>\n",
              "      <th>2</th>\n",
              "      <td>916741</td>\n",
              "      <td>COVID19</td>\n",
              "      <td>PFIZER\\BIONTECH</td>\n",
              "      <td>EH9899</td>\n",
              "      <td>1</td>\n",
              "      <td>SYR</td>\n",
              "      <td>LA</td>\n",
              "      <td>COVID19 (COVID19 (PFIZER-BIONTECH))</td>\n",
              "    </tr>\n",
              "    <tr>\n",
              "      <th>3</th>\n",
              "      <td>916772</td>\n",
              "      <td>COVID19</td>\n",
              "      <td>PFIZER\\BIONTECH</td>\n",
              "      <td>EJ1685</td>\n",
              "      <td>UNK</td>\n",
              "      <td>IM</td>\n",
              "      <td>LA</td>\n",
              "      <td>COVID19 (COVID19 (PFIZER-BIONTECH))</td>\n",
              "    </tr>\n",
              "    <tr>\n",
              "      <th>4</th>\n",
              "      <td>916790</td>\n",
              "      <td>COVID19</td>\n",
              "      <td>PFIZER\\BIONTECH</td>\n",
              "      <td>NaN</td>\n",
              "      <td>1</td>\n",
              "      <td>IM</td>\n",
              "      <td>RA</td>\n",
              "      <td>COVID19 (COVID19 (PFIZER-BIONTECH))</td>\n",
              "    </tr>\n",
              "    <tr>\n",
              "      <th>5</th>\n",
              "      <td>916803</td>\n",
              "      <td>FLU4</td>\n",
              "      <td>SANOFI PASTEUR</td>\n",
              "      <td>NaN</td>\n",
              "      <td>4</td>\n",
              "      <td>IM</td>\n",
              "      <td>NaN</td>\n",
              "      <td>INFLUENZA (SEASONAL) (FLUZONE HIGH-DOSE QUADRI...</td>\n",
              "    </tr>\n",
              "    <tr>\n",
              "      <th>6</th>\n",
              "      <td>916809</td>\n",
              "      <td>COVID19</td>\n",
              "      <td>PFIZER\\BIONTECH</td>\n",
              "      <td>EK5730</td>\n",
              "      <td>1</td>\n",
              "      <td>IM</td>\n",
              "      <td>RA</td>\n",
              "      <td>COVID19 (COVID19 (PFIZER-BIONTECH))</td>\n",
              "    </tr>\n",
              "    <tr>\n",
              "      <th>7</th>\n",
              "      <td>916836</td>\n",
              "      <td>COVID19</td>\n",
              "      <td>MODERNA</td>\n",
              "      <td>025J20A</td>\n",
              "      <td>1</td>\n",
              "      <td>IM</td>\n",
              "      <td>AR</td>\n",
              "      <td>COVID19 (COVID19 (MODERNA))</td>\n",
              "    </tr>\n",
              "    <tr>\n",
              "      <th>8</th>\n",
              "      <td>916859</td>\n",
              "      <td>COVID19</td>\n",
              "      <td>MODERNA</td>\n",
              "      <td>039K20A</td>\n",
              "      <td>1</td>\n",
              "      <td>IM</td>\n",
              "      <td>LA</td>\n",
              "      <td>COVID19 (COVID19 (MODERNA))</td>\n",
              "    </tr>\n",
              "    <tr>\n",
              "      <th>9</th>\n",
              "      <td>916890</td>\n",
              "      <td>COVID19</td>\n",
              "      <td>PFIZER\\BIONTECH</td>\n",
              "      <td>NaN</td>\n",
              "      <td>1</td>\n",
              "      <td>IM</td>\n",
              "      <td>RA</td>\n",
              "      <td>COVID19 (COVID19 (PFIZER-BIONTECH))</td>\n",
              "    </tr>\n",
              "    <tr>\n",
              "      <th>10</th>\n",
              "      <td>916918</td>\n",
              "      <td>DTAPHEPBIP</td>\n",
              "      <td>GLAXOSMITHKLINE BIOLOGICALS</td>\n",
              "      <td>NaN</td>\n",
              "      <td>2</td>\n",
              "      <td>NaN</td>\n",
              "      <td>LG</td>\n",
              "      <td>DTAP + HEPB + IPV (PEDIARIX)</td>\n",
              "    </tr>\n",
              "    <tr>\n",
              "      <th>11</th>\n",
              "      <td>916918</td>\n",
              "      <td>HIBV</td>\n",
              "      <td>SANOFI PASTEUR</td>\n",
              "      <td>NaN</td>\n",
              "      <td>2</td>\n",
              "      <td>NaN</td>\n",
              "      <td>LG</td>\n",
              "      <td>HIB (ACTHIB)</td>\n",
              "    </tr>\n",
              "    <tr>\n",
              "      <th>12</th>\n",
              "      <td>916918</td>\n",
              "      <td>RV1</td>\n",
              "      <td>GLAXOSMITHKLINE BIOLOGICALS</td>\n",
              "      <td>NaN</td>\n",
              "      <td>2</td>\n",
              "      <td>NaN</td>\n",
              "      <td>LG</td>\n",
              "      <td>ROTAVIRUS (ROTARIX)</td>\n",
              "    </tr>\n",
              "    <tr>\n",
              "      <th>13</th>\n",
              "      <td>916918</td>\n",
              "      <td>UNK</td>\n",
              "      <td>UNKNOWN MANUFACTURER</td>\n",
              "      <td>NaN</td>\n",
              "      <td>2</td>\n",
              "      <td>NaN</td>\n",
              "      <td>LG</td>\n",
              "      <td>VACCINE NOT SPECIFIED (OTHER)</td>\n",
              "    </tr>\n",
              "    <tr>\n",
              "      <th>14</th>\n",
              "      <td>917026</td>\n",
              "      <td>COVID19</td>\n",
              "      <td>MODERNA</td>\n",
              "      <td>025J208</td>\n",
              "      <td>1</td>\n",
              "      <td>IM</td>\n",
              "      <td>LA</td>\n",
              "      <td>COVID19 (COVID19 (MODERNA))</td>\n",
              "    </tr>\n",
              "    <tr>\n",
              "      <th>15</th>\n",
              "      <td>917042</td>\n",
              "      <td>COVID19</td>\n",
              "      <td>MODERNA</td>\n",
              "      <td>026L20A</td>\n",
              "      <td>1</td>\n",
              "      <td>IM</td>\n",
              "      <td>LA</td>\n",
              "      <td>COVID19 (COVID19 (MODERNA))</td>\n",
              "    </tr>\n",
              "    <tr>\n",
              "      <th>16</th>\n",
              "      <td>917117</td>\n",
              "      <td>COVID19</td>\n",
              "      <td>MODERNA</td>\n",
              "      <td>NaN</td>\n",
              "      <td>1</td>\n",
              "      <td>IM</td>\n",
              "      <td>AR</td>\n",
              "      <td>COVID19 (COVID19 (MODERNA))</td>\n",
              "    </tr>\n",
              "    <tr>\n",
              "      <th>17</th>\n",
              "      <td>917122</td>\n",
              "      <td>COVID19</td>\n",
              "      <td>MODERNA</td>\n",
              "      <td>025J20A</td>\n",
              "      <td>1</td>\n",
              "      <td>SYR</td>\n",
              "      <td>LA</td>\n",
              "      <td>COVID19 (COVID19 (MODERNA))</td>\n",
              "    </tr>\n",
              "    <tr>\n",
              "      <th>18</th>\n",
              "      <td>917210</td>\n",
              "      <td>COVID19</td>\n",
              "      <td>PFIZER\\BIONTECH</td>\n",
              "      <td>EK5730</td>\n",
              "      <td>UNK</td>\n",
              "      <td>IM</td>\n",
              "      <td>AR</td>\n",
              "      <td>COVID19 (COVID19 (PFIZER-BIONTECH))</td>\n",
              "    </tr>\n",
              "    <tr>\n",
              "      <th>19</th>\n",
              "      <td>917257</td>\n",
              "      <td>FLU4</td>\n",
              "      <td>SEQIRUS, INC.</td>\n",
              "      <td>5d4h4</td>\n",
              "      <td>NaN</td>\n",
              "      <td>IM</td>\n",
              "      <td>LA</td>\n",
              "      <td>INFLUENZA (SEASONAL) (AFLURIA QUADRIVALENT)</td>\n",
              "    </tr>\n",
              "    <tr>\n",
              "      <th>20</th>\n",
              "      <td>917375</td>\n",
              "      <td>COVID19</td>\n",
              "      <td>PFIZER\\BIONTECH</td>\n",
              "      <td>NaN</td>\n",
              "      <td>1</td>\n",
              "      <td>IM</td>\n",
              "      <td>UN</td>\n",
              "      <td>COVID19 (COVID19 (PFIZER-BIONTECH))</td>\n",
              "    </tr>\n",
              "    <tr>\n",
              "      <th>21</th>\n",
              "      <td>917497</td>\n",
              "      <td>COVID19</td>\n",
              "      <td>PFIZER\\BIONTECH</td>\n",
              "      <td>E20140</td>\n",
              "      <td>1</td>\n",
              "      <td>IM</td>\n",
              "      <td>LA</td>\n",
              "      <td>COVID19 (COVID19 (PFIZER-BIONTECH))</td>\n",
              "    </tr>\n",
              "    <tr>\n",
              "      <th>22</th>\n",
              "      <td>917549</td>\n",
              "      <td>COVID19</td>\n",
              "      <td>PFIZER\\BIONTECH</td>\n",
              "      <td>EL1284</td>\n",
              "      <td>UNK</td>\n",
              "      <td>IM</td>\n",
              "      <td>LA</td>\n",
              "      <td>COVID19 (COVID19 (PFIZER-BIONTECH))</td>\n",
              "    </tr>\n",
              "    <tr>\n",
              "      <th>23</th>\n",
              "      <td>917702</td>\n",
              "      <td>COVID19</td>\n",
              "      <td>MODERNA</td>\n",
              "      <td>026L20A</td>\n",
              "      <td>1</td>\n",
              "      <td>IM</td>\n",
              "      <td>RA</td>\n",
              "      <td>COVID19 (COVID19 (MODERNA))</td>\n",
              "    </tr>\n",
              "    <tr>\n",
              "      <th>24</th>\n",
              "      <td>917712</td>\n",
              "      <td>COVID19</td>\n",
              "      <td>PFIZER\\BIONTECH</td>\n",
              "      <td>EK5730</td>\n",
              "      <td>1</td>\n",
              "      <td>IM</td>\n",
              "      <td>LA</td>\n",
              "      <td>COVID19 (COVID19 (PFIZER-BIONTECH))</td>\n",
              "    </tr>\n",
              "    <tr>\n",
              "      <th>25</th>\n",
              "      <td>917727</td>\n",
              "      <td>COVID19</td>\n",
              "      <td>PFIZER\\BIONTECH</td>\n",
              "      <td>EL0142</td>\n",
              "      <td>UNK</td>\n",
              "      <td>NaN</td>\n",
              "      <td>NaN</td>\n",
              "      <td>COVID19 (COVID19 (PFIZER-BIONTECH))</td>\n",
              "    </tr>\n",
              "    <tr>\n",
              "      <th>26</th>\n",
              "      <td>917784</td>\n",
              "      <td>COVID19</td>\n",
              "      <td>MODERNA</td>\n",
              "      <td>NaN</td>\n",
              "      <td>UNK</td>\n",
              "      <td>NaN</td>\n",
              "      <td>NaN</td>\n",
              "      <td>COVID19 (COVID19 (MODERNA))</td>\n",
              "    </tr>\n",
              "    <tr>\n",
              "      <th>27</th>\n",
              "      <td>917790</td>\n",
              "      <td>COVID19</td>\n",
              "      <td>MODERNA</td>\n",
              "      <td>NaN</td>\n",
              "      <td>1</td>\n",
              "      <td>IM</td>\n",
              "      <td>AR</td>\n",
              "      <td>COVID19 (COVID19 (MODERNA))</td>\n",
              "    </tr>\n",
              "    <tr>\n",
              "      <th>28</th>\n",
              "      <td>917793</td>\n",
              "      <td>COVID19</td>\n",
              "      <td>MODERNA</td>\n",
              "      <td>NaN</td>\n",
              "      <td>1</td>\n",
              "      <td>IM</td>\n",
              "      <td>AR</td>\n",
              "      <td>COVID19 (COVID19 (MODERNA))</td>\n",
              "    </tr>\n",
              "    <tr>\n",
              "      <th>29</th>\n",
              "      <td>917835</td>\n",
              "      <td>COVID19</td>\n",
              "      <td>MODERNA</td>\n",
              "      <td>NaN</td>\n",
              "      <td>UNK</td>\n",
              "      <td>IM</td>\n",
              "      <td>RA</td>\n",
              "      <td>COVID19 (COVID19 (MODERNA))</td>\n",
              "    </tr>\n",
              "  </tbody>\n",
              "</table>\n",
              "</div>"
            ],
            "text/plain": [
              "    VAERS_ID  ...                                           VAX_NAME\n",
              "0     916710  ...                        COVID19 (COVID19 (MODERNA))\n",
              "1     916720  ...                        COVID19 (COVID19 (MODERNA))\n",
              "2     916741  ...                COVID19 (COVID19 (PFIZER-BIONTECH))\n",
              "3     916772  ...                COVID19 (COVID19 (PFIZER-BIONTECH))\n",
              "4     916790  ...                COVID19 (COVID19 (PFIZER-BIONTECH))\n",
              "5     916803  ...  INFLUENZA (SEASONAL) (FLUZONE HIGH-DOSE QUADRI...\n",
              "6     916809  ...                COVID19 (COVID19 (PFIZER-BIONTECH))\n",
              "7     916836  ...                        COVID19 (COVID19 (MODERNA))\n",
              "8     916859  ...                        COVID19 (COVID19 (MODERNA))\n",
              "9     916890  ...                COVID19 (COVID19 (PFIZER-BIONTECH))\n",
              "10    916918  ...                       DTAP + HEPB + IPV (PEDIARIX)\n",
              "11    916918  ...                                       HIB (ACTHIB)\n",
              "12    916918  ...                                ROTAVIRUS (ROTARIX)\n",
              "13    916918  ...                      VACCINE NOT SPECIFIED (OTHER)\n",
              "14    917026  ...                        COVID19 (COVID19 (MODERNA))\n",
              "15    917042  ...                        COVID19 (COVID19 (MODERNA))\n",
              "16    917117  ...                        COVID19 (COVID19 (MODERNA))\n",
              "17    917122  ...                        COVID19 (COVID19 (MODERNA))\n",
              "18    917210  ...                COVID19 (COVID19 (PFIZER-BIONTECH))\n",
              "19    917257  ...        INFLUENZA (SEASONAL) (AFLURIA QUADRIVALENT)\n",
              "20    917375  ...                COVID19 (COVID19 (PFIZER-BIONTECH))\n",
              "21    917497  ...                COVID19 (COVID19 (PFIZER-BIONTECH))\n",
              "22    917549  ...                COVID19 (COVID19 (PFIZER-BIONTECH))\n",
              "23    917702  ...                        COVID19 (COVID19 (MODERNA))\n",
              "24    917712  ...                COVID19 (COVID19 (PFIZER-BIONTECH))\n",
              "25    917727  ...                COVID19 (COVID19 (PFIZER-BIONTECH))\n",
              "26    917784  ...                        COVID19 (COVID19 (MODERNA))\n",
              "27    917790  ...                        COVID19 (COVID19 (MODERNA))\n",
              "28    917793  ...                        COVID19 (COVID19 (MODERNA))\n",
              "29    917835  ...                        COVID19 (COVID19 (MODERNA))\n",
              "\n",
              "[30 rows x 8 columns]"
            ]
          },
          "metadata": {
            "tags": []
          },
          "execution_count": 117
        }
      ]
    },
    {
      "cell_type": "code",
      "metadata": {
        "colab": {
          "base_uri": "https://localhost:8080/"
        },
        "id": "w1wMmhjlaCvm",
        "outputId": "ef27fc16-a3bd-4aaf-f18f-e410192a63d6"
      },
      "source": [
        "len(vaers_vax[vaers_vax['VAX_TYPE'] == 'COVID19'])"
      ],
      "execution_count": null,
      "outputs": [
        {
          "output_type": "execute_result",
          "data": {
            "text/plain": [
              "5279"
            ]
          },
          "metadata": {
            "tags": []
          },
          "execution_count": 118
        }
      ]
    },
    {
      "cell_type": "code",
      "metadata": {
        "id": "y24SsHUMctIs"
      },
      "source": [
        "vaers_vax = vaers_vax[vaers_vax['VAX_TYPE'] == 'COVID19']"
      ],
      "execution_count": null,
      "outputs": []
    },
    {
      "cell_type": "code",
      "metadata": {
        "colab": {
          "base_uri": "https://localhost:8080/",
          "height": 538
        },
        "id": "bnIVR_3kc8mH",
        "outputId": "3d8831cb-09fe-451f-fcbd-84f56bb4f1b7"
      },
      "source": [
        "vaers_vax"
      ],
      "execution_count": null,
      "outputs": [
        {
          "output_type": "execute_result",
          "data": {
            "text/html": [
              "<div>\n",
              "<style scoped>\n",
              "    .dataframe tbody tr th:only-of-type {\n",
              "        vertical-align: middle;\n",
              "    }\n",
              "\n",
              "    .dataframe tbody tr th {\n",
              "        vertical-align: top;\n",
              "    }\n",
              "\n",
              "    .dataframe thead th {\n",
              "        text-align: right;\n",
              "    }\n",
              "</style>\n",
              "<table border=\"1\" class=\"dataframe\">\n",
              "  <thead>\n",
              "    <tr style=\"text-align: right;\">\n",
              "      <th></th>\n",
              "      <th>VAERS_ID</th>\n",
              "      <th>VAX_TYPE</th>\n",
              "      <th>VAX_MANU</th>\n",
              "      <th>VAX_LOT</th>\n",
              "      <th>VAX_DOSE_SERIES</th>\n",
              "      <th>VAX_ROUTE</th>\n",
              "      <th>VAX_SITE</th>\n",
              "      <th>VAX_NAME</th>\n",
              "    </tr>\n",
              "  </thead>\n",
              "  <tbody>\n",
              "    <tr>\n",
              "      <th>0</th>\n",
              "      <td>916710</td>\n",
              "      <td>COVID19</td>\n",
              "      <td>MODERNA</td>\n",
              "      <td>NaN</td>\n",
              "      <td>1</td>\n",
              "      <td>IM</td>\n",
              "      <td>LA</td>\n",
              "      <td>COVID19 (COVID19 (MODERNA))</td>\n",
              "    </tr>\n",
              "    <tr>\n",
              "      <th>1</th>\n",
              "      <td>916720</td>\n",
              "      <td>COVID19</td>\n",
              "      <td>MODERNA</td>\n",
              "      <td>011L20A</td>\n",
              "      <td>1</td>\n",
              "      <td>IM</td>\n",
              "      <td>AR</td>\n",
              "      <td>COVID19 (COVID19 (MODERNA))</td>\n",
              "    </tr>\n",
              "    <tr>\n",
              "      <th>2</th>\n",
              "      <td>916741</td>\n",
              "      <td>COVID19</td>\n",
              "      <td>PFIZER\\BIONTECH</td>\n",
              "      <td>EH9899</td>\n",
              "      <td>1</td>\n",
              "      <td>SYR</td>\n",
              "      <td>LA</td>\n",
              "      <td>COVID19 (COVID19 (PFIZER-BIONTECH))</td>\n",
              "    </tr>\n",
              "    <tr>\n",
              "      <th>3</th>\n",
              "      <td>916772</td>\n",
              "      <td>COVID19</td>\n",
              "      <td>PFIZER\\BIONTECH</td>\n",
              "      <td>EJ1685</td>\n",
              "      <td>UNK</td>\n",
              "      <td>IM</td>\n",
              "      <td>LA</td>\n",
              "      <td>COVID19 (COVID19 (PFIZER-BIONTECH))</td>\n",
              "    </tr>\n",
              "    <tr>\n",
              "      <th>4</th>\n",
              "      <td>916790</td>\n",
              "      <td>COVID19</td>\n",
              "      <td>PFIZER\\BIONTECH</td>\n",
              "      <td>NaN</td>\n",
              "      <td>1</td>\n",
              "      <td>IM</td>\n",
              "      <td>RA</td>\n",
              "      <td>COVID19 (COVID19 (PFIZER-BIONTECH))</td>\n",
              "    </tr>\n",
              "    <tr>\n",
              "      <th>...</th>\n",
              "      <td>...</td>\n",
              "      <td>...</td>\n",
              "      <td>...</td>\n",
              "      <td>...</td>\n",
              "      <td>...</td>\n",
              "      <td>...</td>\n",
              "      <td>...</td>\n",
              "      <td>...</td>\n",
              "    </tr>\n",
              "    <tr>\n",
              "      <th>5466</th>\n",
              "      <td>1024788</td>\n",
              "      <td>COVID19</td>\n",
              "      <td>MODERNA</td>\n",
              "      <td>025J20-2A</td>\n",
              "      <td>2</td>\n",
              "      <td>IM</td>\n",
              "      <td>LA</td>\n",
              "      <td>COVID19 (COVID19 (MODERNA))</td>\n",
              "    </tr>\n",
              "    <tr>\n",
              "      <th>5467</th>\n",
              "      <td>1024790</td>\n",
              "      <td>COVID19</td>\n",
              "      <td>MODERNA</td>\n",
              "      <td>025J20-2A</td>\n",
              "      <td>2</td>\n",
              "      <td>IM</td>\n",
              "      <td>LA</td>\n",
              "      <td>COVID19 (COVID19 (MODERNA))</td>\n",
              "    </tr>\n",
              "    <tr>\n",
              "      <th>5468</th>\n",
              "      <td>1024795</td>\n",
              "      <td>COVID19</td>\n",
              "      <td>MODERNA</td>\n",
              "      <td>025J20-2A</td>\n",
              "      <td>2</td>\n",
              "      <td>IM</td>\n",
              "      <td>LA</td>\n",
              "      <td>COVID19 (COVID19 (MODERNA))</td>\n",
              "    </tr>\n",
              "    <tr>\n",
              "      <th>5469</th>\n",
              "      <td>1024817</td>\n",
              "      <td>COVID19</td>\n",
              "      <td>PFIZER\\BIONTECH</td>\n",
              "      <td>EL3247</td>\n",
              "      <td>1</td>\n",
              "      <td>IM</td>\n",
              "      <td>RA</td>\n",
              "      <td>COVID19 (COVID19 (PFIZER-BIONTECH))</td>\n",
              "    </tr>\n",
              "    <tr>\n",
              "      <th>5470</th>\n",
              "      <td>1024853</td>\n",
              "      <td>COVID19</td>\n",
              "      <td>MODERNA</td>\n",
              "      <td>NaN</td>\n",
              "      <td>UNK</td>\n",
              "      <td>SYR</td>\n",
              "      <td>LA</td>\n",
              "      <td>COVID19 (COVID19 (MODERNA))</td>\n",
              "    </tr>\n",
              "  </tbody>\n",
              "</table>\n",
              "<p>5279 rows × 8 columns</p>\n",
              "</div>"
            ],
            "text/plain": [
              "      VAERS_ID VAX_TYPE  ... VAX_SITE                             VAX_NAME\n",
              "0       916710  COVID19  ...       LA          COVID19 (COVID19 (MODERNA))\n",
              "1       916720  COVID19  ...       AR          COVID19 (COVID19 (MODERNA))\n",
              "2       916741  COVID19  ...       LA  COVID19 (COVID19 (PFIZER-BIONTECH))\n",
              "3       916772  COVID19  ...       LA  COVID19 (COVID19 (PFIZER-BIONTECH))\n",
              "4       916790  COVID19  ...       RA  COVID19 (COVID19 (PFIZER-BIONTECH))\n",
              "...        ...      ...  ...      ...                                  ...\n",
              "5466   1024788  COVID19  ...       LA          COVID19 (COVID19 (MODERNA))\n",
              "5467   1024790  COVID19  ...       LA          COVID19 (COVID19 (MODERNA))\n",
              "5468   1024795  COVID19  ...       LA          COVID19 (COVID19 (MODERNA))\n",
              "5469   1024817  COVID19  ...       RA  COVID19 (COVID19 (PFIZER-BIONTECH))\n",
              "5470   1024853  COVID19  ...       LA          COVID19 (COVID19 (MODERNA))\n",
              "\n",
              "[5279 rows x 8 columns]"
            ]
          },
          "metadata": {
            "tags": []
          },
          "execution_count": 24
        }
      ]
    },
    {
      "cell_type": "code",
      "metadata": {
        "id": "4biH5bFPdAok"
      },
      "source": [
        "vaers_merge_f = pd.merge(vaers_vax, vaers_merge, on='VAERS_ID')"
      ],
      "execution_count": null,
      "outputs": []
    },
    {
      "cell_type": "code",
      "metadata": {
        "colab": {
          "base_uri": "https://localhost:8080/"
        },
        "id": "c55s3ci4Z5lK",
        "outputId": "c69f3a66-4809-4618-c0e0-05c38f4c33fa"
      },
      "source": [
        "len(vaers_merge_f)"
      ],
      "execution_count": null,
      "outputs": [
        {
          "output_type": "execute_result",
          "data": {
            "text/plain": [
              "5279"
            ]
          },
          "metadata": {
            "tags": []
          },
          "execution_count": 26
        }
      ]
    },
    {
      "cell_type": "code",
      "metadata": {
        "id": "AAi7oWyZdZR6"
      },
      "source": [
        "VAX_MANU, AGE_YRS, SEX, OTHER_MEDS, CUR_ILL, HISTORY, BIRTH_DEFECT, ALLERGIES, SYMPTOM1, SYMPTOM2, SYMPTOM3, SYMPTOM4, SYMPTOM5"
      ],
      "execution_count": null,
      "outputs": []
    },
    {
      "cell_type": "code",
      "metadata": {
        "id": "nU72N9T_giw3"
      },
      "source": [
        ""
      ],
      "execution_count": null,
      "outputs": []
    },
    {
      "cell_type": "code",
      "metadata": {
        "id": "ePOrOXq6dNJR"
      },
      "source": [
        "vaers_merge.head(20)"
      ],
      "execution_count": null,
      "outputs": []
    },
    {
      "cell_type": "code",
      "metadata": {
        "id": "RY9hj_CFEmnz"
      },
      "source": [
        " vaers_merge.isna().sum()"
      ],
      "execution_count": null,
      "outputs": []
    },
    {
      "cell_type": "code",
      "metadata": {
        "id": "BenFY1XJLfWm"
      },
      "source": [
        "vaers_merge_f = vaers_merge_f[['VAX_MANU', 'AGE_YRS', 'SEX', 'OTHER_MEDS', 'CUR_ILL', 'HISTORY', 'BIRTH_DEFECT', 'ALLERGIES', 'SYMPTOM1', 'SYMPTOM2', 'SYMPTOM3', 'SYMPTOM4', 'SYMPTOM5']]"
      ],
      "execution_count": null,
      "outputs": []
    },
    {
      "cell_type": "code",
      "metadata": {
        "colab": {
          "base_uri": "https://localhost:8080/",
          "height": 643
        },
        "id": "FCP8cCzFLNK5",
        "outputId": "e7cdb271-1275-4ac3-b663-425c8bf037d4"
      },
      "source": [
        "vaers_merge_f"
      ],
      "execution_count": null,
      "outputs": [
        {
          "output_type": "execute_result",
          "data": {
            "text/html": [
              "<div>\n",
              "<style scoped>\n",
              "    .dataframe tbody tr th:only-of-type {\n",
              "        vertical-align: middle;\n",
              "    }\n",
              "\n",
              "    .dataframe tbody tr th {\n",
              "        vertical-align: top;\n",
              "    }\n",
              "\n",
              "    .dataframe thead th {\n",
              "        text-align: right;\n",
              "    }\n",
              "</style>\n",
              "<table border=\"1\" class=\"dataframe\">\n",
              "  <thead>\n",
              "    <tr style=\"text-align: right;\">\n",
              "      <th></th>\n",
              "      <th>VAX_MANU</th>\n",
              "      <th>AGE_YRS</th>\n",
              "      <th>SEX</th>\n",
              "      <th>OTHER_MEDS</th>\n",
              "      <th>CUR_ILL</th>\n",
              "      <th>HISTORY</th>\n",
              "      <th>BIRTH_DEFECT</th>\n",
              "      <th>ALLERGIES</th>\n",
              "      <th>SYMPTOM1</th>\n",
              "      <th>SYMPTOM2</th>\n",
              "      <th>SYMPTOM3</th>\n",
              "      <th>SYMPTOM4</th>\n",
              "      <th>SYMPTOM5</th>\n",
              "    </tr>\n",
              "  </thead>\n",
              "  <tbody>\n",
              "    <tr>\n",
              "      <th>0</th>\n",
              "      <td>MODERNA</td>\n",
              "      <td>23.0</td>\n",
              "      <td>F</td>\n",
              "      <td>Synthroid</td>\n",
              "      <td>NaN</td>\n",
              "      <td>Hypothyroidism</td>\n",
              "      <td>NaN</td>\n",
              "      <td>NKDA</td>\n",
              "      <td>Appendicitis</td>\n",
              "      <td>Band neutrophil percentage increased</td>\n",
              "      <td>Surgery</td>\n",
              "      <td>White blood cell count increased</td>\n",
              "      <td>NaN</td>\n",
              "    </tr>\n",
              "    <tr>\n",
              "      <th>1</th>\n",
              "      <td>MODERNA</td>\n",
              "      <td>23.0</td>\n",
              "      <td>M</td>\n",
              "      <td>NaN</td>\n",
              "      <td>NaN</td>\n",
              "      <td>NaN</td>\n",
              "      <td>NaN</td>\n",
              "      <td>NaN</td>\n",
              "      <td>Dysphagia</td>\n",
              "      <td>Dyspnoea</td>\n",
              "      <td>NaN</td>\n",
              "      <td>NaN</td>\n",
              "      <td>NaN</td>\n",
              "    </tr>\n",
              "    <tr>\n",
              "      <th>2</th>\n",
              "      <td>PFIZER\\BIONTECH</td>\n",
              "      <td>68.0</td>\n",
              "      <td>F</td>\n",
              "      <td>phenobarbital 60mg HS hydroxychloroquin  400mg...</td>\n",
              "      <td>had surgery R hand for advanced arthritis 11/1...</td>\n",
              "      <td>Rheumatoid arthritis - mostly affecting R wris...</td>\n",
              "      <td>NaN</td>\n",
              "      <td>bee stings</td>\n",
              "      <td>Myalgia</td>\n",
              "      <td>Pain in extremity</td>\n",
              "      <td>Peripheral swelling</td>\n",
              "      <td>X-ray abnormal</td>\n",
              "      <td>NaN</td>\n",
              "    </tr>\n",
              "    <tr>\n",
              "      <th>3</th>\n",
              "      <td>PFIZER\\BIONTECH</td>\n",
              "      <td>55.0</td>\n",
              "      <td>M</td>\n",
              "      <td>Propranolol,zoloft,asa,Lisinipril, Crestor, Pr...</td>\n",
              "      <td>NaN</td>\n",
              "      <td>HTN, Insomnia,High Cholesterol,</td>\n",
              "      <td>NaN</td>\n",
              "      <td>Codeine</td>\n",
              "      <td>Feeling abnormal</td>\n",
              "      <td>SARS-CoV-2 test positive</td>\n",
              "      <td>NaN</td>\n",
              "      <td>NaN</td>\n",
              "      <td>NaN</td>\n",
              "    </tr>\n",
              "    <tr>\n",
              "      <th>4</th>\n",
              "      <td>PFIZER\\BIONTECH</td>\n",
              "      <td>52.0</td>\n",
              "      <td>F</td>\n",
              "      <td>Estradiol, topiramate, Emgality, sumatriptan, ...</td>\n",
              "      <td>NaN</td>\n",
              "      <td>Asthma, migraines</td>\n",
              "      <td>NaN</td>\n",
              "      <td>Sulfa, shellfish</td>\n",
              "      <td>Nausea</td>\n",
              "      <td>Speech disorder</td>\n",
              "      <td>Throat clearing</td>\n",
              "      <td>NaN</td>\n",
              "      <td>NaN</td>\n",
              "    </tr>\n",
              "    <tr>\n",
              "      <th>...</th>\n",
              "      <td>...</td>\n",
              "      <td>...</td>\n",
              "      <td>...</td>\n",
              "      <td>...</td>\n",
              "      <td>...</td>\n",
              "      <td>...</td>\n",
              "      <td>...</td>\n",
              "      <td>...</td>\n",
              "      <td>...</td>\n",
              "      <td>...</td>\n",
              "      <td>...</td>\n",
              "      <td>...</td>\n",
              "      <td>...</td>\n",
              "    </tr>\n",
              "    <tr>\n",
              "      <th>5274</th>\n",
              "      <td>MODERNA</td>\n",
              "      <td>90.0</td>\n",
              "      <td>F</td>\n",
              "      <td>NaN</td>\n",
              "      <td>NaN</td>\n",
              "      <td>NaN</td>\n",
              "      <td>NaN</td>\n",
              "      <td>NaN</td>\n",
              "      <td>Death</td>\n",
              "      <td>NaN</td>\n",
              "      <td>NaN</td>\n",
              "      <td>NaN</td>\n",
              "      <td>NaN</td>\n",
              "    </tr>\n",
              "    <tr>\n",
              "      <th>5275</th>\n",
              "      <td>MODERNA</td>\n",
              "      <td>91.0</td>\n",
              "      <td>F</td>\n",
              "      <td>NaN</td>\n",
              "      <td>NaN</td>\n",
              "      <td>NaN</td>\n",
              "      <td>NaN</td>\n",
              "      <td>NaN</td>\n",
              "      <td>Death</td>\n",
              "      <td>NaN</td>\n",
              "      <td>NaN</td>\n",
              "      <td>NaN</td>\n",
              "      <td>NaN</td>\n",
              "    </tr>\n",
              "    <tr>\n",
              "      <th>5276</th>\n",
              "      <td>MODERNA</td>\n",
              "      <td>86.0</td>\n",
              "      <td>F</td>\n",
              "      <td>NaN</td>\n",
              "      <td>NaN</td>\n",
              "      <td>NaN</td>\n",
              "      <td>NaN</td>\n",
              "      <td>NaN</td>\n",
              "      <td>Death</td>\n",
              "      <td>NaN</td>\n",
              "      <td>NaN</td>\n",
              "      <td>NaN</td>\n",
              "      <td>NaN</td>\n",
              "    </tr>\n",
              "    <tr>\n",
              "      <th>5277</th>\n",
              "      <td>PFIZER\\BIONTECH</td>\n",
              "      <td>68.0</td>\n",
              "      <td>M</td>\n",
              "      <td>Meds Prior to hospitalization:  Propanolol, ci...</td>\n",
              "      <td>NIDDM, HTN, CAD s/p CABG x4v, liver cirrhosis,...</td>\n",
              "      <td>social history of alcohol abuse</td>\n",
              "      <td>NaN</td>\n",
              "      <td>Ampicillin sodium</td>\n",
              "      <td>Respiratory arrest</td>\n",
              "      <td>Resuscitation</td>\n",
              "      <td>Seizure like phenomena</td>\n",
              "      <td>Unresponsive to stimuli</td>\n",
              "      <td>Ventricular fibrillation</td>\n",
              "    </tr>\n",
              "    <tr>\n",
              "      <th>5278</th>\n",
              "      <td>MODERNA</td>\n",
              "      <td>78.0</td>\n",
              "      <td>F</td>\n",
              "      <td>Chemo</td>\n",
              "      <td>Essential Thrombocytopemia Alzheimer?s</td>\n",
              "      <td>Essential Thrombocytopemia Alzheimer?s</td>\n",
              "      <td>NaN</td>\n",
              "      <td>None</td>\n",
              "      <td>Nasopharyngitis</td>\n",
              "      <td>Nausea</td>\n",
              "      <td>SARS-CoV-2 test negative</td>\n",
              "      <td>NaN</td>\n",
              "      <td>NaN</td>\n",
              "    </tr>\n",
              "  </tbody>\n",
              "</table>\n",
              "<p>5279 rows × 13 columns</p>\n",
              "</div>"
            ],
            "text/plain": [
              "             VAX_MANU  ...                  SYMPTOM5\n",
              "0             MODERNA  ...                       NaN\n",
              "1             MODERNA  ...                       NaN\n",
              "2     PFIZER\\BIONTECH  ...                       NaN\n",
              "3     PFIZER\\BIONTECH  ...                       NaN\n",
              "4     PFIZER\\BIONTECH  ...                       NaN\n",
              "...               ...  ...                       ...\n",
              "5274          MODERNA  ...                       NaN\n",
              "5275          MODERNA  ...                       NaN\n",
              "5276          MODERNA  ...                       NaN\n",
              "5277  PFIZER\\BIONTECH  ...  Ventricular fibrillation\n",
              "5278          MODERNA  ...                       NaN\n",
              "\n",
              "[5279 rows x 13 columns]"
            ]
          },
          "metadata": {
            "tags": []
          },
          "execution_count": 28
        }
      ]
    },
    {
      "cell_type": "code",
      "metadata": {
        "colab": {
          "base_uri": "https://localhost:8080/"
        },
        "id": "qhmCdpaEk4Je",
        "outputId": "6c82675d-f530-4446-e358-ebbc5989277c"
      },
      "source": [
        "len(vaers_merge_f.ALLERGIES.unique())"
      ],
      "execution_count": null,
      "outputs": [
        {
          "output_type": "execute_result",
          "data": {
            "text/plain": [
              "1248"
            ]
          },
          "metadata": {
            "tags": []
          },
          "execution_count": 137
        }
      ]
    },
    {
      "cell_type": "code",
      "metadata": {
        "colab": {
          "base_uri": "https://localhost:8080/"
        },
        "id": "Trb8HiDQhFmd",
        "outputId": "6e87645f-9c96-4156-b0a3-533cbdbfbd27"
      },
      "source": [
        "vaers_merge_f.BIRTH_DEFECT.unique()"
      ],
      "execution_count": null,
      "outputs": [
        {
          "output_type": "execute_result",
          "data": {
            "text/plain": [
              "array([nan, 'Y'], dtype=object)"
            ]
          },
          "metadata": {
            "tags": []
          },
          "execution_count": 138
        }
      ]
    },
    {
      "cell_type": "code",
      "metadata": {
        "colab": {
          "base_uri": "https://localhost:8080/"
        },
        "id": "63hx9PYBjxD9",
        "outputId": "825dcdf6-412c-4e56-ef9c-dd4b43ef1df0"
      },
      "source": [
        "len(vaers_merge_f.OTHER_MEDS.unique())"
      ],
      "execution_count": null,
      "outputs": [
        {
          "output_type": "execute_result",
          "data": {
            "text/plain": [
              "2346"
            ]
          },
          "metadata": {
            "tags": []
          },
          "execution_count": 133
        }
      ]
    },
    {
      "cell_type": "code",
      "metadata": {
        "id": "Y8yS2VgThy3h"
      },
      "source": [
        "def age_to_numeric(x):\n",
        "    if x=='No': return str(45)\n",
        "    else: return x\n",
        "\n",
        "def sex_to_numeric(x):\n",
        "    if x=='F': return 1\n",
        "    if x=='M':   return 0\n",
        "\n",
        "def vax_manu_to_numeric(x):\n",
        "  if x == 'UNKNOWN MANUFACTURER': return 0\n",
        "  if x == 'MODERNA': return 1\n",
        "  if x == 'PFIZER\\\\BIONTECH': return 2\n",
        "\n",
        "def other_meds_to_numeric(x):\n",
        "  if x == 'NaN': return 0\n",
        "  if x == 'No': return 0\n",
        "  if x == 'NKDA': return 0\n",
        "  if x == 'None': return 0\n",
        "  else: return 1\n",
        "\n",
        "def curr_ill_to_numeric(x):\n",
        "  if x == 'NaN': return 0\n",
        "  if x == 'No': return 0\n",
        "  if x == 'NKDA': return 0\n",
        "  if x == 'None': return 0\n",
        "  else: return 1\n",
        "\n",
        "def history_to_numeric(x):\n",
        "  if x == 'NaN': return 0\n",
        "  if x == 'No': return 0\n",
        "  if x == 'NKDA': return 0\n",
        "  if x == 'None': return 0\n",
        "  else: return 1\n",
        "\n",
        "def birth_defect_to_numeric(x):\n",
        "  if x == 'NaN': return 0\n",
        "  if x == 'No': return 0\n",
        "  if x == 'NKDA': return 0\n",
        "  if x == 'None': return 0\n",
        "  else: return 1\n",
        "\n",
        "def allergies_to_numeric(x):\n",
        "  if x == 'NaN': return 0\n",
        "  if x == 'No': return 0\n",
        "  if x == 'NKDA': return 0\n",
        "  if x == 'None': return 0\n",
        "  else: return 1\n",
        "\n",
        "def symptom_to_numeric(x):\n",
        "  if x == 'NaN': return 0\n",
        "  if x == 'No': return 0\n",
        "  if x == 'NKDA': return 0\n",
        "  if x == 'None': return 0\n",
        "  else: return 1\n",
        "\n",
        "\n",
        "\n",
        "\n",
        "  \n"
      ],
      "execution_count": null,
      "outputs": []
    },
    {
      "cell_type": "code",
      "metadata": {
        "colab": {
          "base_uri": "https://localhost:8080/"
        },
        "id": "RWzIgGlGtYsc",
        "outputId": "00658f4e-d597-4535-f3a5-2e6cd133db10"
      },
      "source": [
        "vaers_merge_f[\"SYMPTOM5\"]"
      ],
      "execution_count": null,
      "outputs": [
        {
          "output_type": "execute_result",
          "data": {
            "text/plain": [
              "0                            NaN\n",
              "1                            NaN\n",
              "2                            NaN\n",
              "3                            NaN\n",
              "4                            NaN\n",
              "                  ...           \n",
              "5274                         NaN\n",
              "5275                         NaN\n",
              "5276                         NaN\n",
              "5277    Ventricular fibrillation\n",
              "5278                         NaN\n",
              "Name: SYMPTOM5, Length: 5279, dtype: object"
            ]
          },
          "metadata": {
            "tags": []
          },
          "execution_count": 193
        }
      ]
    },
    {
      "cell_type": "code",
      "metadata": {
        "colab": {
          "base_uri": "https://localhost:8080/"
        },
        "id": "MWhugLrouqcE",
        "outputId": "fd03832b-0cb0-440a-91a4-726370bc2d6f"
      },
      "source": [
        "vaers_merge_f.AGE_YRS.isna().sum()"
      ],
      "execution_count": null,
      "outputs": [
        {
          "output_type": "execute_result",
          "data": {
            "text/plain": [
              "936"
            ]
          },
          "metadata": {
            "tags": []
          },
          "execution_count": 199
        }
      ]
    },
    {
      "cell_type": "code",
      "metadata": {
        "id": "WRNvvaZkrQ9e"
      },
      "source": [
        "vaers_merge_f[\"VAX_MANU\"] = vaers_merge_f[\"VAX_MANU\"].fillna(\"No\")\n",
        "vaers_merge_f[\"SEX\"] = vaers_merge_f[\"SEX\"].fillna(\"No\")\n",
        "vaers_merge_f[\"OTHER_MEDS\"] = vaers_merge_f[\"OTHER_MEDS\"].fillna(\"No\")\n",
        "vaers_merge_f[\"CUR_ILL\"] = vaers_merge_f[\"CUR_ILL\"].fillna(\"No\")\n",
        "vaers_merge_f[\"HISTORY\"] = vaers_merge_f[\"HISTORY\"].fillna(\"No\")\n",
        "vaers_merge_f[\"BIRTH_DEFECT\"] = vaers_merge_f[\"BIRTH_DEFECT\"].fillna(\"No\")\n",
        "vaers_merge_f[\"ALLERGIES\"] = vaers_merge_f[\"ALLERGIES\"].fillna(\"No\")\n",
        "vaers_merge_f[\"SYMPTOM1\"] = vaers_merge_f[\"SYMPTOM1\"].fillna(\"No\")\n",
        "vaers_merge_f[\"SYMPTOM2\"] = vaers_merge_f[\"SYMPTOM2\"].fillna(\"No\")\n",
        "vaers_merge_f[\"SYMPTOM3\"] = vaers_merge_f[\"SYMPTOM3\"].fillna(\"No\")\n",
        "vaers_merge_f[\"SYMPTOM4\"] = vaers_merge_f[\"SYMPTOM4\"].fillna(\"No\")\n",
        "vaers_merge_f[\"SYMPTOM5\"] = vaers_merge_f[\"SYMPTOM5\"].fillna(\"No\")"
      ],
      "execution_count": null,
      "outputs": []
    },
    {
      "cell_type": "code",
      "metadata": {
        "colab": {
          "base_uri": "https://localhost:8080/",
          "height": 411
        },
        "id": "3NrQUPbVqsWf",
        "outputId": "4c39a09c-031e-4adb-85e8-e7a0ef2cb5e9"
      },
      "source": [
        "vaers_merge_f.head()"
      ],
      "execution_count": null,
      "outputs": [
        {
          "output_type": "execute_result",
          "data": {
            "text/html": [
              "<div>\n",
              "<style scoped>\n",
              "    .dataframe tbody tr th:only-of-type {\n",
              "        vertical-align: middle;\n",
              "    }\n",
              "\n",
              "    .dataframe tbody tr th {\n",
              "        vertical-align: top;\n",
              "    }\n",
              "\n",
              "    .dataframe thead th {\n",
              "        text-align: right;\n",
              "    }\n",
              "</style>\n",
              "<table border=\"1\" class=\"dataframe\">\n",
              "  <thead>\n",
              "    <tr style=\"text-align: right;\">\n",
              "      <th></th>\n",
              "      <th>VAX_MANU</th>\n",
              "      <th>AGE_YRS</th>\n",
              "      <th>SEX</th>\n",
              "      <th>OTHER_MEDS</th>\n",
              "      <th>CUR_ILL</th>\n",
              "      <th>HISTORY</th>\n",
              "      <th>BIRTH_DEFECT</th>\n",
              "      <th>ALLERGIES</th>\n",
              "      <th>SYMPTOM1</th>\n",
              "      <th>SYMPTOM2</th>\n",
              "      <th>SYMPTOM3</th>\n",
              "      <th>SYMPTOM4</th>\n",
              "      <th>SYMPTOM5</th>\n",
              "    </tr>\n",
              "  </thead>\n",
              "  <tbody>\n",
              "    <tr>\n",
              "      <th>0</th>\n",
              "      <td>MODERNA</td>\n",
              "      <td>23.0</td>\n",
              "      <td>F</td>\n",
              "      <td>Synthroid</td>\n",
              "      <td>No</td>\n",
              "      <td>Hypothyroidism</td>\n",
              "      <td>No</td>\n",
              "      <td>NKDA</td>\n",
              "      <td>Appendicitis</td>\n",
              "      <td>Band neutrophil percentage increased</td>\n",
              "      <td>Surgery</td>\n",
              "      <td>White blood cell count increased</td>\n",
              "      <td>No</td>\n",
              "    </tr>\n",
              "    <tr>\n",
              "      <th>1</th>\n",
              "      <td>MODERNA</td>\n",
              "      <td>23.0</td>\n",
              "      <td>M</td>\n",
              "      <td>No</td>\n",
              "      <td>No</td>\n",
              "      <td>No</td>\n",
              "      <td>No</td>\n",
              "      <td>No</td>\n",
              "      <td>Dysphagia</td>\n",
              "      <td>Dyspnoea</td>\n",
              "      <td>No</td>\n",
              "      <td>No</td>\n",
              "      <td>No</td>\n",
              "    </tr>\n",
              "    <tr>\n",
              "      <th>2</th>\n",
              "      <td>PFIZER\\BIONTECH</td>\n",
              "      <td>68.0</td>\n",
              "      <td>F</td>\n",
              "      <td>phenobarbital 60mg HS hydroxychloroquin  400mg...</td>\n",
              "      <td>had surgery R hand for advanced arthritis 11/1...</td>\n",
              "      <td>Rheumatoid arthritis - mostly affecting R wris...</td>\n",
              "      <td>No</td>\n",
              "      <td>bee stings</td>\n",
              "      <td>Myalgia</td>\n",
              "      <td>Pain in extremity</td>\n",
              "      <td>Peripheral swelling</td>\n",
              "      <td>X-ray abnormal</td>\n",
              "      <td>No</td>\n",
              "    </tr>\n",
              "    <tr>\n",
              "      <th>3</th>\n",
              "      <td>PFIZER\\BIONTECH</td>\n",
              "      <td>55.0</td>\n",
              "      <td>M</td>\n",
              "      <td>Propranolol,zoloft,asa,Lisinipril, Crestor, Pr...</td>\n",
              "      <td>No</td>\n",
              "      <td>HTN, Insomnia,High Cholesterol,</td>\n",
              "      <td>No</td>\n",
              "      <td>Codeine</td>\n",
              "      <td>Feeling abnormal</td>\n",
              "      <td>SARS-CoV-2 test positive</td>\n",
              "      <td>No</td>\n",
              "      <td>No</td>\n",
              "      <td>No</td>\n",
              "    </tr>\n",
              "    <tr>\n",
              "      <th>4</th>\n",
              "      <td>PFIZER\\BIONTECH</td>\n",
              "      <td>52.0</td>\n",
              "      <td>F</td>\n",
              "      <td>Estradiol, topiramate, Emgality, sumatriptan, ...</td>\n",
              "      <td>No</td>\n",
              "      <td>Asthma, migraines</td>\n",
              "      <td>No</td>\n",
              "      <td>Sulfa, shellfish</td>\n",
              "      <td>Nausea</td>\n",
              "      <td>Speech disorder</td>\n",
              "      <td>Throat clearing</td>\n",
              "      <td>No</td>\n",
              "      <td>No</td>\n",
              "    </tr>\n",
              "  </tbody>\n",
              "</table>\n",
              "</div>"
            ],
            "text/plain": [
              "          VAX_MANU  AGE_YRS  ...                          SYMPTOM4 SYMPTOM5\n",
              "0          MODERNA     23.0  ...  White blood cell count increased       No\n",
              "1          MODERNA     23.0  ...                                No       No\n",
              "2  PFIZER\\BIONTECH     68.0  ...                    X-ray abnormal       No\n",
              "3  PFIZER\\BIONTECH     55.0  ...                                No       No\n",
              "4  PFIZER\\BIONTECH     52.0  ...                                No       No\n",
              "\n",
              "[5 rows x 13 columns]"
            ]
          },
          "metadata": {
            "tags": []
          },
          "execution_count": 31
        }
      ]
    },
    {
      "cell_type": "code",
      "metadata": {
        "id": "SBFrYN6SnhFI"
      },
      "source": [
        "vaers_merge_f['vax_manu_num'] = vaers_merge_f['VAX_MANU'].apply(vax_manu_to_numeric)\n",
        "vaers_merge_f['sex_num'] = vaers_merge_f['SEX'].apply(sex_to_numeric)\n",
        "vaers_merge_f['other_meds_num'] = vaers_merge_f['OTHER_MEDS'].apply(other_meds_to_numeric)\n",
        "vaers_merge_f['curr_ill_num'] = vaers_merge_f['CUR_ILL'].apply(curr_ill_to_numeric)\n",
        "vaers_merge_f['history_num'] = vaers_merge_f['HISTORY'].apply(history_to_numeric)\n",
        "vaers_merge_f['birth_defect_num'] = vaers_merge_f['BIRTH_DEFECT'].apply(birth_defect_to_numeric)\n",
        "vaers_merge_f['allergies_num'] = vaers_merge_f['ALLERGIES'].apply(allergies_to_numeric)\n",
        "vaers_merge_f['symptom1_num'] = vaers_merge_f['SYMPTOM1'].apply(symptom_to_numeric)\n",
        "vaers_merge_f['symptom2_num'] = vaers_merge_f['SYMPTOM2'].apply(symptom_to_numeric)\n",
        "vaers_merge_f['symptom3_num'] = vaers_merge_f['SYMPTOM3'].apply(symptom_to_numeric)\n",
        "vaers_merge_f['symptom4_num'] = vaers_merge_f['SYMPTOM4'].apply(symptom_to_numeric)\n",
        "vaers_merge_f['symptom5_num'] = vaers_merge_f['SYMPTOM5'].apply(symptom_to_numeric)\n"
      ],
      "execution_count": null,
      "outputs": []
    },
    {
      "cell_type": "code",
      "metadata": {
        "colab": {
          "base_uri": "https://localhost:8080/",
          "height": 643
        },
        "id": "AZuRWf3cqADR",
        "outputId": "51039745-b5c2-4c74-8c08-4b84adc72a8a"
      },
      "source": [
        "vaers_merge_f"
      ],
      "execution_count": null,
      "outputs": [
        {
          "output_type": "execute_result",
          "data": {
            "text/html": [
              "<div>\n",
              "<style scoped>\n",
              "    .dataframe tbody tr th:only-of-type {\n",
              "        vertical-align: middle;\n",
              "    }\n",
              "\n",
              "    .dataframe tbody tr th {\n",
              "        vertical-align: top;\n",
              "    }\n",
              "\n",
              "    .dataframe thead th {\n",
              "        text-align: right;\n",
              "    }\n",
              "</style>\n",
              "<table border=\"1\" class=\"dataframe\">\n",
              "  <thead>\n",
              "    <tr style=\"text-align: right;\">\n",
              "      <th></th>\n",
              "      <th>VAX_MANU</th>\n",
              "      <th>AGE_YRS</th>\n",
              "      <th>SEX</th>\n",
              "      <th>OTHER_MEDS</th>\n",
              "      <th>CUR_ILL</th>\n",
              "      <th>HISTORY</th>\n",
              "      <th>BIRTH_DEFECT</th>\n",
              "      <th>ALLERGIES</th>\n",
              "      <th>SYMPTOM1</th>\n",
              "      <th>SYMPTOM2</th>\n",
              "      <th>SYMPTOM3</th>\n",
              "      <th>SYMPTOM4</th>\n",
              "      <th>SYMPTOM5</th>\n",
              "      <th>vax_manu_num</th>\n",
              "      <th>sex_num</th>\n",
              "      <th>other_meds_num</th>\n",
              "      <th>curr_ill_num</th>\n",
              "      <th>history_num</th>\n",
              "      <th>birth_defect_num</th>\n",
              "      <th>allergies_num</th>\n",
              "      <th>symptom1_num</th>\n",
              "      <th>symptom2_num</th>\n",
              "      <th>symptom3_num</th>\n",
              "      <th>symptom4_num</th>\n",
              "      <th>symptom5_num</th>\n",
              "    </tr>\n",
              "  </thead>\n",
              "  <tbody>\n",
              "    <tr>\n",
              "      <th>0</th>\n",
              "      <td>MODERNA</td>\n",
              "      <td>23.0</td>\n",
              "      <td>F</td>\n",
              "      <td>Synthroid</td>\n",
              "      <td>No</td>\n",
              "      <td>Hypothyroidism</td>\n",
              "      <td>No</td>\n",
              "      <td>NKDA</td>\n",
              "      <td>Appendicitis</td>\n",
              "      <td>Band neutrophil percentage increased</td>\n",
              "      <td>Surgery</td>\n",
              "      <td>White blood cell count increased</td>\n",
              "      <td>No</td>\n",
              "      <td>1</td>\n",
              "      <td>1.0</td>\n",
              "      <td>1</td>\n",
              "      <td>0</td>\n",
              "      <td>1</td>\n",
              "      <td>0</td>\n",
              "      <td>0</td>\n",
              "      <td>1</td>\n",
              "      <td>1</td>\n",
              "      <td>1</td>\n",
              "      <td>1</td>\n",
              "      <td>0</td>\n",
              "    </tr>\n",
              "    <tr>\n",
              "      <th>1</th>\n",
              "      <td>MODERNA</td>\n",
              "      <td>23.0</td>\n",
              "      <td>M</td>\n",
              "      <td>No</td>\n",
              "      <td>No</td>\n",
              "      <td>No</td>\n",
              "      <td>No</td>\n",
              "      <td>No</td>\n",
              "      <td>Dysphagia</td>\n",
              "      <td>Dyspnoea</td>\n",
              "      <td>No</td>\n",
              "      <td>No</td>\n",
              "      <td>No</td>\n",
              "      <td>1</td>\n",
              "      <td>0.0</td>\n",
              "      <td>0</td>\n",
              "      <td>0</td>\n",
              "      <td>0</td>\n",
              "      <td>0</td>\n",
              "      <td>0</td>\n",
              "      <td>1</td>\n",
              "      <td>1</td>\n",
              "      <td>0</td>\n",
              "      <td>0</td>\n",
              "      <td>0</td>\n",
              "    </tr>\n",
              "    <tr>\n",
              "      <th>2</th>\n",
              "      <td>PFIZER\\BIONTECH</td>\n",
              "      <td>68.0</td>\n",
              "      <td>F</td>\n",
              "      <td>phenobarbital 60mg HS hydroxychloroquin  400mg...</td>\n",
              "      <td>had surgery R hand for advanced arthritis 11/1...</td>\n",
              "      <td>Rheumatoid arthritis - mostly affecting R wris...</td>\n",
              "      <td>No</td>\n",
              "      <td>bee stings</td>\n",
              "      <td>Myalgia</td>\n",
              "      <td>Pain in extremity</td>\n",
              "      <td>Peripheral swelling</td>\n",
              "      <td>X-ray abnormal</td>\n",
              "      <td>No</td>\n",
              "      <td>2</td>\n",
              "      <td>1.0</td>\n",
              "      <td>1</td>\n",
              "      <td>1</td>\n",
              "      <td>1</td>\n",
              "      <td>0</td>\n",
              "      <td>1</td>\n",
              "      <td>1</td>\n",
              "      <td>1</td>\n",
              "      <td>1</td>\n",
              "      <td>1</td>\n",
              "      <td>0</td>\n",
              "    </tr>\n",
              "    <tr>\n",
              "      <th>3</th>\n",
              "      <td>PFIZER\\BIONTECH</td>\n",
              "      <td>55.0</td>\n",
              "      <td>M</td>\n",
              "      <td>Propranolol,zoloft,asa,Lisinipril, Crestor, Pr...</td>\n",
              "      <td>No</td>\n",
              "      <td>HTN, Insomnia,High Cholesterol,</td>\n",
              "      <td>No</td>\n",
              "      <td>Codeine</td>\n",
              "      <td>Feeling abnormal</td>\n",
              "      <td>SARS-CoV-2 test positive</td>\n",
              "      <td>No</td>\n",
              "      <td>No</td>\n",
              "      <td>No</td>\n",
              "      <td>2</td>\n",
              "      <td>0.0</td>\n",
              "      <td>1</td>\n",
              "      <td>0</td>\n",
              "      <td>1</td>\n",
              "      <td>0</td>\n",
              "      <td>1</td>\n",
              "      <td>1</td>\n",
              "      <td>1</td>\n",
              "      <td>0</td>\n",
              "      <td>0</td>\n",
              "      <td>0</td>\n",
              "    </tr>\n",
              "    <tr>\n",
              "      <th>4</th>\n",
              "      <td>PFIZER\\BIONTECH</td>\n",
              "      <td>52.0</td>\n",
              "      <td>F</td>\n",
              "      <td>Estradiol, topiramate, Emgality, sumatriptan, ...</td>\n",
              "      <td>No</td>\n",
              "      <td>Asthma, migraines</td>\n",
              "      <td>No</td>\n",
              "      <td>Sulfa, shellfish</td>\n",
              "      <td>Nausea</td>\n",
              "      <td>Speech disorder</td>\n",
              "      <td>Throat clearing</td>\n",
              "      <td>No</td>\n",
              "      <td>No</td>\n",
              "      <td>2</td>\n",
              "      <td>1.0</td>\n",
              "      <td>1</td>\n",
              "      <td>0</td>\n",
              "      <td>1</td>\n",
              "      <td>0</td>\n",
              "      <td>1</td>\n",
              "      <td>1</td>\n",
              "      <td>1</td>\n",
              "      <td>1</td>\n",
              "      <td>0</td>\n",
              "      <td>0</td>\n",
              "    </tr>\n",
              "    <tr>\n",
              "      <th>...</th>\n",
              "      <td>...</td>\n",
              "      <td>...</td>\n",
              "      <td>...</td>\n",
              "      <td>...</td>\n",
              "      <td>...</td>\n",
              "      <td>...</td>\n",
              "      <td>...</td>\n",
              "      <td>...</td>\n",
              "      <td>...</td>\n",
              "      <td>...</td>\n",
              "      <td>...</td>\n",
              "      <td>...</td>\n",
              "      <td>...</td>\n",
              "      <td>...</td>\n",
              "      <td>...</td>\n",
              "      <td>...</td>\n",
              "      <td>...</td>\n",
              "      <td>...</td>\n",
              "      <td>...</td>\n",
              "      <td>...</td>\n",
              "      <td>...</td>\n",
              "      <td>...</td>\n",
              "      <td>...</td>\n",
              "      <td>...</td>\n",
              "      <td>...</td>\n",
              "    </tr>\n",
              "    <tr>\n",
              "      <th>5274</th>\n",
              "      <td>MODERNA</td>\n",
              "      <td>90.0</td>\n",
              "      <td>F</td>\n",
              "      <td>No</td>\n",
              "      <td>No</td>\n",
              "      <td>No</td>\n",
              "      <td>No</td>\n",
              "      <td>No</td>\n",
              "      <td>Death</td>\n",
              "      <td>No</td>\n",
              "      <td>No</td>\n",
              "      <td>No</td>\n",
              "      <td>No</td>\n",
              "      <td>1</td>\n",
              "      <td>1.0</td>\n",
              "      <td>0</td>\n",
              "      <td>0</td>\n",
              "      <td>0</td>\n",
              "      <td>0</td>\n",
              "      <td>0</td>\n",
              "      <td>1</td>\n",
              "      <td>0</td>\n",
              "      <td>0</td>\n",
              "      <td>0</td>\n",
              "      <td>0</td>\n",
              "    </tr>\n",
              "    <tr>\n",
              "      <th>5275</th>\n",
              "      <td>MODERNA</td>\n",
              "      <td>91.0</td>\n",
              "      <td>F</td>\n",
              "      <td>No</td>\n",
              "      <td>No</td>\n",
              "      <td>No</td>\n",
              "      <td>No</td>\n",
              "      <td>No</td>\n",
              "      <td>Death</td>\n",
              "      <td>No</td>\n",
              "      <td>No</td>\n",
              "      <td>No</td>\n",
              "      <td>No</td>\n",
              "      <td>1</td>\n",
              "      <td>1.0</td>\n",
              "      <td>0</td>\n",
              "      <td>0</td>\n",
              "      <td>0</td>\n",
              "      <td>0</td>\n",
              "      <td>0</td>\n",
              "      <td>1</td>\n",
              "      <td>0</td>\n",
              "      <td>0</td>\n",
              "      <td>0</td>\n",
              "      <td>0</td>\n",
              "    </tr>\n",
              "    <tr>\n",
              "      <th>5276</th>\n",
              "      <td>MODERNA</td>\n",
              "      <td>86.0</td>\n",
              "      <td>F</td>\n",
              "      <td>No</td>\n",
              "      <td>No</td>\n",
              "      <td>No</td>\n",
              "      <td>No</td>\n",
              "      <td>No</td>\n",
              "      <td>Death</td>\n",
              "      <td>No</td>\n",
              "      <td>No</td>\n",
              "      <td>No</td>\n",
              "      <td>No</td>\n",
              "      <td>1</td>\n",
              "      <td>1.0</td>\n",
              "      <td>0</td>\n",
              "      <td>0</td>\n",
              "      <td>0</td>\n",
              "      <td>0</td>\n",
              "      <td>0</td>\n",
              "      <td>1</td>\n",
              "      <td>0</td>\n",
              "      <td>0</td>\n",
              "      <td>0</td>\n",
              "      <td>0</td>\n",
              "    </tr>\n",
              "    <tr>\n",
              "      <th>5277</th>\n",
              "      <td>PFIZER\\BIONTECH</td>\n",
              "      <td>68.0</td>\n",
              "      <td>M</td>\n",
              "      <td>Meds Prior to hospitalization:  Propanolol, ci...</td>\n",
              "      <td>NIDDM, HTN, CAD s/p CABG x4v, liver cirrhosis,...</td>\n",
              "      <td>social history of alcohol abuse</td>\n",
              "      <td>No</td>\n",
              "      <td>Ampicillin sodium</td>\n",
              "      <td>Respiratory arrest</td>\n",
              "      <td>Resuscitation</td>\n",
              "      <td>Seizure like phenomena</td>\n",
              "      <td>Unresponsive to stimuli</td>\n",
              "      <td>Ventricular fibrillation</td>\n",
              "      <td>2</td>\n",
              "      <td>0.0</td>\n",
              "      <td>1</td>\n",
              "      <td>1</td>\n",
              "      <td>1</td>\n",
              "      <td>0</td>\n",
              "      <td>1</td>\n",
              "      <td>1</td>\n",
              "      <td>1</td>\n",
              "      <td>1</td>\n",
              "      <td>1</td>\n",
              "      <td>1</td>\n",
              "    </tr>\n",
              "    <tr>\n",
              "      <th>5278</th>\n",
              "      <td>MODERNA</td>\n",
              "      <td>78.0</td>\n",
              "      <td>F</td>\n",
              "      <td>Chemo</td>\n",
              "      <td>Essential Thrombocytopemia Alzheimer?s</td>\n",
              "      <td>Essential Thrombocytopemia Alzheimer?s</td>\n",
              "      <td>No</td>\n",
              "      <td>None</td>\n",
              "      <td>Nasopharyngitis</td>\n",
              "      <td>Nausea</td>\n",
              "      <td>SARS-CoV-2 test negative</td>\n",
              "      <td>No</td>\n",
              "      <td>No</td>\n",
              "      <td>1</td>\n",
              "      <td>1.0</td>\n",
              "      <td>1</td>\n",
              "      <td>1</td>\n",
              "      <td>1</td>\n",
              "      <td>0</td>\n",
              "      <td>0</td>\n",
              "      <td>1</td>\n",
              "      <td>1</td>\n",
              "      <td>1</td>\n",
              "      <td>0</td>\n",
              "      <td>0</td>\n",
              "    </tr>\n",
              "  </tbody>\n",
              "</table>\n",
              "<p>5279 rows × 25 columns</p>\n",
              "</div>"
            ],
            "text/plain": [
              "             VAX_MANU  AGE_YRS SEX  ... symptom3_num symptom4_num symptom5_num\n",
              "0             MODERNA     23.0   F  ...            1            1            0\n",
              "1             MODERNA     23.0   M  ...            0            0            0\n",
              "2     PFIZER\\BIONTECH     68.0   F  ...            1            1            0\n",
              "3     PFIZER\\BIONTECH     55.0   M  ...            0            0            0\n",
              "4     PFIZER\\BIONTECH     52.0   F  ...            1            0            0\n",
              "...               ...      ...  ..  ...          ...          ...          ...\n",
              "5274          MODERNA     90.0   F  ...            0            0            0\n",
              "5275          MODERNA     91.0   F  ...            0            0            0\n",
              "5276          MODERNA     86.0   F  ...            0            0            0\n",
              "5277  PFIZER\\BIONTECH     68.0   M  ...            1            1            1\n",
              "5278          MODERNA     78.0   F  ...            1            0            0\n",
              "\n",
              "[5279 rows x 25 columns]"
            ]
          },
          "metadata": {
            "tags": []
          },
          "execution_count": 33
        }
      ]
    },
    {
      "cell_type": "code",
      "metadata": {
        "colab": {
          "base_uri": "https://localhost:8080/"
        },
        "id": "cmYe_6gJzK8C",
        "outputId": "96187138-bd74-45d3-ee10-36624aa2c474"
      },
      "source": [
        "vaers_merge_f[\"AGE_YRS\"]"
      ],
      "execution_count": null,
      "outputs": [
        {
          "output_type": "stream",
          "text": [
            "/usr/local/lib/python3.7/dist-packages/ipykernel_launcher.py:1: SettingWithCopyWarning: \n",
            "A value is trying to be set on a copy of a slice from a DataFrame.\n",
            "Try using .loc[row_indexer,col_indexer] = value instead\n",
            "\n",
            "See the caveats in the documentation: https://pandas.pydata.org/pandas-docs/stable/user_guide/indexing.html#returning-a-view-versus-a-copy\n",
            "  \"\"\"Entry point for launching an IPython kernel.\n"
          ],
          "name": "stderr"
        }
      ]
    },
    {
      "cell_type": "code",
      "metadata": {
        "id": "ui7MNwPMzpeh"
      },
      "source": [
        "vaers_merge_f[\"AGE_YRS\"] = vaers_merge_f[\"AGE_YRS\"].fillna(\"No\")"
      ],
      "execution_count": null,
      "outputs": []
    },
    {
      "cell_type": "code",
      "metadata": {
        "id": "vbf1E_7NyMwj"
      },
      "source": [
        "sum = 0\n",
        "for row in vaers_merge_f.iterrows():\n",
        "  if row[1][1] != \"No\":\n",
        "    sum = sum + int(row[1][1])\n",
        "  "
      ],
      "execution_count": null,
      "outputs": []
    },
    {
      "cell_type": "code",
      "metadata": {
        "id": "FRSumXON0Ivf"
      },
      "source": [
        "vaers_merge_f['age_yrs'] = vaers_merge_f['AGE_YRS'].apply(age_to_numeric)"
      ],
      "execution_count": null,
      "outputs": []
    },
    {
      "cell_type": "code",
      "metadata": {
        "id": "1vf8MQGO0zUm"
      },
      "source": [
        "vaers_merge_f[\"age_yrs\"] = pd.to_numeric(vaers_merge_f[\"age_yrs\"])"
      ],
      "execution_count": null,
      "outputs": []
    },
    {
      "cell_type": "code",
      "metadata": {
        "id": "sLRORH671goF"
      },
      "source": [
        "vaers_merge_final = vaers_merge_f.drop(['VAX_MANU', 'AGE_YRS', 'SEX', 'OTHER_MEDS', 'CUR_ILL', 'HISTORY', 'BIRTH_DEFECT', 'ALLERGIES', 'SYMPTOM1', 'SYMPTOM2', 'SYMPTOM3', 'SYMPTOM4', 'SYMPTOM5'], axis=1)"
      ],
      "execution_count": null,
      "outputs": []
    },
    {
      "cell_type": "code",
      "metadata": {
        "colab": {
          "base_uri": "https://localhost:8080/"
        },
        "id": "-H4mJ9ZB5YhC",
        "outputId": "857ea5e6-7364-4bb1-fe02-6aa4c082d942"
      },
      "source": [
        "vaers_merge_final.dtypes"
      ],
      "execution_count": null,
      "outputs": [
        {
          "output_type": "execute_result",
          "data": {
            "text/plain": [
              "vax_manu_num          int64\n",
              "sex_num             float64\n",
              "other_meds_num        int64\n",
              "curr_ill_num          int64\n",
              "history_num           int64\n",
              "birth_defect_num      int64\n",
              "allergies_num         int64\n",
              "symptom1_num          int64\n",
              "symptom2_num          int64\n",
              "symptom3_num          int64\n",
              "symptom4_num          int64\n",
              "symptom5_num          int64\n",
              "age_yrs             float64\n",
              "dtype: object"
            ]
          },
          "metadata": {
            "tags": []
          },
          "execution_count": 49
        }
      ]
    },
    {
      "cell_type": "code",
      "metadata": {
        "id": "8-seDrAg8lQl"
      },
      "source": [
        "first_col = vaers_merge_final.pop('age_yrs')"
      ],
      "execution_count": 62,
      "outputs": []
    },
    {
      "cell_type": "code",
      "metadata": {
        "id": "bYROiWAk8stX"
      },
      "source": [
        "vaers_merge_final.insert(0, 'age_yrs', first_col)"
      ],
      "execution_count": 63,
      "outputs": []
    },
    {
      "cell_type": "code",
      "metadata": {
        "colab": {
          "base_uri": "https://localhost:8080/",
          "height": 439
        },
        "id": "6X8BNQWE8zLx",
        "outputId": "e9e8678a-b150-4286-fe38-791b54a78afb"
      },
      "source": [
        "vaers_merge_final"
      ],
      "execution_count": 140,
      "outputs": [
        {
          "output_type": "execute_result",
          "data": {
            "text/html": [
              "<div>\n",
              "<style scoped>\n",
              "    .dataframe tbody tr th:only-of-type {\n",
              "        vertical-align: middle;\n",
              "    }\n",
              "\n",
              "    .dataframe tbody tr th {\n",
              "        vertical-align: top;\n",
              "    }\n",
              "\n",
              "    .dataframe thead th {\n",
              "        text-align: right;\n",
              "    }\n",
              "</style>\n",
              "<table border=\"1\" class=\"dataframe\">\n",
              "  <thead>\n",
              "    <tr style=\"text-align: right;\">\n",
              "      <th></th>\n",
              "      <th>age_yrs</th>\n",
              "      <th>vax_manu_num</th>\n",
              "      <th>sex_num</th>\n",
              "      <th>other_meds_num</th>\n",
              "      <th>curr_ill_num</th>\n",
              "      <th>history_num</th>\n",
              "      <th>birth_defect_num</th>\n",
              "      <th>allergies_num</th>\n",
              "      <th>symptom1_num</th>\n",
              "      <th>symptom2_num</th>\n",
              "      <th>symptom3_num</th>\n",
              "      <th>symptom4_num</th>\n",
              "      <th>symptom5_num</th>\n",
              "    </tr>\n",
              "  </thead>\n",
              "  <tbody>\n",
              "    <tr>\n",
              "      <th>0</th>\n",
              "      <td>23.0</td>\n",
              "      <td>1</td>\n",
              "      <td>1.0</td>\n",
              "      <td>1</td>\n",
              "      <td>0</td>\n",
              "      <td>1</td>\n",
              "      <td>0</td>\n",
              "      <td>0</td>\n",
              "      <td>1</td>\n",
              "      <td>1</td>\n",
              "      <td>1</td>\n",
              "      <td>1</td>\n",
              "      <td>0</td>\n",
              "    </tr>\n",
              "    <tr>\n",
              "      <th>1</th>\n",
              "      <td>23.0</td>\n",
              "      <td>1</td>\n",
              "      <td>0.0</td>\n",
              "      <td>0</td>\n",
              "      <td>0</td>\n",
              "      <td>0</td>\n",
              "      <td>0</td>\n",
              "      <td>0</td>\n",
              "      <td>1</td>\n",
              "      <td>1</td>\n",
              "      <td>0</td>\n",
              "      <td>0</td>\n",
              "      <td>0</td>\n",
              "    </tr>\n",
              "    <tr>\n",
              "      <th>2</th>\n",
              "      <td>68.0</td>\n",
              "      <td>2</td>\n",
              "      <td>1.0</td>\n",
              "      <td>1</td>\n",
              "      <td>1</td>\n",
              "      <td>1</td>\n",
              "      <td>0</td>\n",
              "      <td>1</td>\n",
              "      <td>1</td>\n",
              "      <td>1</td>\n",
              "      <td>1</td>\n",
              "      <td>1</td>\n",
              "      <td>0</td>\n",
              "    </tr>\n",
              "    <tr>\n",
              "      <th>3</th>\n",
              "      <td>55.0</td>\n",
              "      <td>2</td>\n",
              "      <td>0.0</td>\n",
              "      <td>1</td>\n",
              "      <td>0</td>\n",
              "      <td>1</td>\n",
              "      <td>0</td>\n",
              "      <td>1</td>\n",
              "      <td>1</td>\n",
              "      <td>1</td>\n",
              "      <td>0</td>\n",
              "      <td>0</td>\n",
              "      <td>0</td>\n",
              "    </tr>\n",
              "    <tr>\n",
              "      <th>4</th>\n",
              "      <td>52.0</td>\n",
              "      <td>2</td>\n",
              "      <td>1.0</td>\n",
              "      <td>1</td>\n",
              "      <td>0</td>\n",
              "      <td>1</td>\n",
              "      <td>0</td>\n",
              "      <td>1</td>\n",
              "      <td>1</td>\n",
              "      <td>1</td>\n",
              "      <td>1</td>\n",
              "      <td>0</td>\n",
              "      <td>0</td>\n",
              "    </tr>\n",
              "    <tr>\n",
              "      <th>...</th>\n",
              "      <td>...</td>\n",
              "      <td>...</td>\n",
              "      <td>...</td>\n",
              "      <td>...</td>\n",
              "      <td>...</td>\n",
              "      <td>...</td>\n",
              "      <td>...</td>\n",
              "      <td>...</td>\n",
              "      <td>...</td>\n",
              "      <td>...</td>\n",
              "      <td>...</td>\n",
              "      <td>...</td>\n",
              "      <td>...</td>\n",
              "    </tr>\n",
              "    <tr>\n",
              "      <th>5274</th>\n",
              "      <td>90.0</td>\n",
              "      <td>1</td>\n",
              "      <td>1.0</td>\n",
              "      <td>0</td>\n",
              "      <td>0</td>\n",
              "      <td>0</td>\n",
              "      <td>0</td>\n",
              "      <td>0</td>\n",
              "      <td>1</td>\n",
              "      <td>0</td>\n",
              "      <td>0</td>\n",
              "      <td>0</td>\n",
              "      <td>0</td>\n",
              "    </tr>\n",
              "    <tr>\n",
              "      <th>5275</th>\n",
              "      <td>91.0</td>\n",
              "      <td>1</td>\n",
              "      <td>1.0</td>\n",
              "      <td>0</td>\n",
              "      <td>0</td>\n",
              "      <td>0</td>\n",
              "      <td>0</td>\n",
              "      <td>0</td>\n",
              "      <td>1</td>\n",
              "      <td>0</td>\n",
              "      <td>0</td>\n",
              "      <td>0</td>\n",
              "      <td>0</td>\n",
              "    </tr>\n",
              "    <tr>\n",
              "      <th>5276</th>\n",
              "      <td>86.0</td>\n",
              "      <td>1</td>\n",
              "      <td>1.0</td>\n",
              "      <td>0</td>\n",
              "      <td>0</td>\n",
              "      <td>0</td>\n",
              "      <td>0</td>\n",
              "      <td>0</td>\n",
              "      <td>1</td>\n",
              "      <td>0</td>\n",
              "      <td>0</td>\n",
              "      <td>0</td>\n",
              "      <td>0</td>\n",
              "    </tr>\n",
              "    <tr>\n",
              "      <th>5277</th>\n",
              "      <td>68.0</td>\n",
              "      <td>2</td>\n",
              "      <td>0.0</td>\n",
              "      <td>1</td>\n",
              "      <td>1</td>\n",
              "      <td>1</td>\n",
              "      <td>0</td>\n",
              "      <td>1</td>\n",
              "      <td>1</td>\n",
              "      <td>1</td>\n",
              "      <td>1</td>\n",
              "      <td>1</td>\n",
              "      <td>1</td>\n",
              "    </tr>\n",
              "    <tr>\n",
              "      <th>5278</th>\n",
              "      <td>78.0</td>\n",
              "      <td>1</td>\n",
              "      <td>1.0</td>\n",
              "      <td>1</td>\n",
              "      <td>1</td>\n",
              "      <td>1</td>\n",
              "      <td>0</td>\n",
              "      <td>0</td>\n",
              "      <td>1</td>\n",
              "      <td>1</td>\n",
              "      <td>1</td>\n",
              "      <td>0</td>\n",
              "      <td>0</td>\n",
              "    </tr>\n",
              "  </tbody>\n",
              "</table>\n",
              "<p>5279 rows × 13 columns</p>\n",
              "</div>"
            ],
            "text/plain": [
              "      age_yrs  vax_manu_num  sex_num  ...  symptom3_num  symptom4_num  symptom5_num\n",
              "0        23.0             1      1.0  ...             1             1             0\n",
              "1        23.0             1      0.0  ...             0             0             0\n",
              "2        68.0             2      1.0  ...             1             1             0\n",
              "3        55.0             2      0.0  ...             0             0             0\n",
              "4        52.0             2      1.0  ...             1             0             0\n",
              "...       ...           ...      ...  ...           ...           ...           ...\n",
              "5274     90.0             1      1.0  ...             0             0             0\n",
              "5275     91.0             1      1.0  ...             0             0             0\n",
              "5276     86.0             1      1.0  ...             0             0             0\n",
              "5277     68.0             2      0.0  ...             1             1             1\n",
              "5278     78.0             1      1.0  ...             1             0             0\n",
              "\n",
              "[5279 rows x 13 columns]"
            ]
          },
          "metadata": {
            "tags": []
          },
          "execution_count": 140
        }
      ]
    },
    {
      "cell_type": "code",
      "metadata": {
        "id": "fh2EDKNkizzo"
      },
      "source": [
        "sample_dataset = vaers_merge_final.sample(n=300)"
      ],
      "execution_count": 201,
      "outputs": []
    },
    {
      "cell_type": "code",
      "metadata": {
        "id": "A2HLHscOPL7o"
      },
      "source": [
        "X = sample_dataset.iloc[:,: -5]"
      ],
      "execution_count": 206,
      "outputs": []
    },
    {
      "cell_type": "code",
      "metadata": {
        "id": "z17sjEdS2VXl"
      },
      "source": [
        "X = vaers_merge_final.iloc[:,: -5]"
      ],
      "execution_count": 228,
      "outputs": []
    },
    {
      "cell_type": "code",
      "metadata": {
        "id": "xgbeDBj8ipOi"
      },
      "source": [
        "X = X.sample(n = 300)"
      ],
      "execution_count": 520,
      "outputs": []
    },
    {
      "cell_type": "code",
      "metadata": {
        "id": "kABI7QhEPxeI"
      },
      "source": [
        "Y = sample_dataset.iloc[:,-5: ]"
      ],
      "execution_count": 229,
      "outputs": []
    },
    {
      "cell_type": "code",
      "metadata": {
        "id": "iCQDrymyP54R"
      },
      "source": [
        "Y = vaers_merge_final.iloc[:,-5: ]"
      ],
      "execution_count": 230,
      "outputs": []
    },
    {
      "cell_type": "code",
      "metadata": {
        "id": "ZP_ROqYCPWr3"
      },
      "source": [
        "Xz = X.to_numpy()\n",
        "Yz = Y.to_numpy()"
      ],
      "execution_count": 231,
      "outputs": []
    },
    {
      "cell_type": "code",
      "metadata": {
        "colab": {
          "base_uri": "https://localhost:8080/"
        },
        "id": "8FmxCH8w_qQk",
        "outputId": "42ba4765-5307-4c7c-c2ed-4da552af9fec"
      },
      "source": [
        "n_inputs, n_outputs = Xz.shape[1], Yz.shape[1]\n",
        "model = get_model(n_inputs, n_outputs)\n",
        "model.fit(Xz, Yz, verbose=0, epochs=100)"
      ],
      "execution_count": 200,
      "outputs": [
        {
          "output_type": "execute_result",
          "data": {
            "text/plain": [
              "<tensorflow.python.keras.callbacks.History at 0x7f06e72787d0>"
            ]
          },
          "metadata": {
            "tags": []
          },
          "execution_count": 200
        }
      ]
    },
    {
      "cell_type": "code",
      "metadata": {
        "id": "BZd1vkdKSqYa"
      },
      "source": [
        "vaers_merge_final = vaers_merge_final.dropna()"
      ],
      "execution_count": 184,
      "outputs": []
    },
    {
      "cell_type": "code",
      "metadata": {
        "colab": {
          "base_uri": "https://localhost:8080/",
          "height": 439
        },
        "id": "klLnXe_GS8u0",
        "outputId": "2bedcb15-68ce-4b66-a14b-e176ec3a5340"
      },
      "source": [
        "vaers_merge_final"
      ],
      "execution_count": 185,
      "outputs": [
        {
          "output_type": "execute_result",
          "data": {
            "text/html": [
              "<div>\n",
              "<style scoped>\n",
              "    .dataframe tbody tr th:only-of-type {\n",
              "        vertical-align: middle;\n",
              "    }\n",
              "\n",
              "    .dataframe tbody tr th {\n",
              "        vertical-align: top;\n",
              "    }\n",
              "\n",
              "    .dataframe thead th {\n",
              "        text-align: right;\n",
              "    }\n",
              "</style>\n",
              "<table border=\"1\" class=\"dataframe\">\n",
              "  <thead>\n",
              "    <tr style=\"text-align: right;\">\n",
              "      <th></th>\n",
              "      <th>age_yrs</th>\n",
              "      <th>vax_manu_num</th>\n",
              "      <th>sex_num</th>\n",
              "      <th>other_meds_num</th>\n",
              "      <th>curr_ill_num</th>\n",
              "      <th>history_num</th>\n",
              "      <th>birth_defect_num</th>\n",
              "      <th>allergies_num</th>\n",
              "      <th>symptom1_num</th>\n",
              "      <th>symptom2_num</th>\n",
              "      <th>symptom3_num</th>\n",
              "      <th>symptom4_num</th>\n",
              "      <th>symptom5_num</th>\n",
              "    </tr>\n",
              "  </thead>\n",
              "  <tbody>\n",
              "    <tr>\n",
              "      <th>0</th>\n",
              "      <td>23.0</td>\n",
              "      <td>1</td>\n",
              "      <td>1.0</td>\n",
              "      <td>1</td>\n",
              "      <td>0</td>\n",
              "      <td>1</td>\n",
              "      <td>0</td>\n",
              "      <td>0</td>\n",
              "      <td>1</td>\n",
              "      <td>1</td>\n",
              "      <td>1</td>\n",
              "      <td>1</td>\n",
              "      <td>0</td>\n",
              "    </tr>\n",
              "    <tr>\n",
              "      <th>1</th>\n",
              "      <td>23.0</td>\n",
              "      <td>1</td>\n",
              "      <td>0.0</td>\n",
              "      <td>0</td>\n",
              "      <td>0</td>\n",
              "      <td>0</td>\n",
              "      <td>0</td>\n",
              "      <td>0</td>\n",
              "      <td>1</td>\n",
              "      <td>1</td>\n",
              "      <td>0</td>\n",
              "      <td>0</td>\n",
              "      <td>0</td>\n",
              "    </tr>\n",
              "    <tr>\n",
              "      <th>2</th>\n",
              "      <td>68.0</td>\n",
              "      <td>2</td>\n",
              "      <td>1.0</td>\n",
              "      <td>1</td>\n",
              "      <td>1</td>\n",
              "      <td>1</td>\n",
              "      <td>0</td>\n",
              "      <td>1</td>\n",
              "      <td>1</td>\n",
              "      <td>1</td>\n",
              "      <td>1</td>\n",
              "      <td>1</td>\n",
              "      <td>0</td>\n",
              "    </tr>\n",
              "    <tr>\n",
              "      <th>3</th>\n",
              "      <td>55.0</td>\n",
              "      <td>2</td>\n",
              "      <td>0.0</td>\n",
              "      <td>1</td>\n",
              "      <td>0</td>\n",
              "      <td>1</td>\n",
              "      <td>0</td>\n",
              "      <td>1</td>\n",
              "      <td>1</td>\n",
              "      <td>1</td>\n",
              "      <td>0</td>\n",
              "      <td>0</td>\n",
              "      <td>0</td>\n",
              "    </tr>\n",
              "    <tr>\n",
              "      <th>4</th>\n",
              "      <td>52.0</td>\n",
              "      <td>2</td>\n",
              "      <td>1.0</td>\n",
              "      <td>1</td>\n",
              "      <td>0</td>\n",
              "      <td>1</td>\n",
              "      <td>0</td>\n",
              "      <td>1</td>\n",
              "      <td>1</td>\n",
              "      <td>1</td>\n",
              "      <td>1</td>\n",
              "      <td>0</td>\n",
              "      <td>0</td>\n",
              "    </tr>\n",
              "    <tr>\n",
              "      <th>...</th>\n",
              "      <td>...</td>\n",
              "      <td>...</td>\n",
              "      <td>...</td>\n",
              "      <td>...</td>\n",
              "      <td>...</td>\n",
              "      <td>...</td>\n",
              "      <td>...</td>\n",
              "      <td>...</td>\n",
              "      <td>...</td>\n",
              "      <td>...</td>\n",
              "      <td>...</td>\n",
              "      <td>...</td>\n",
              "      <td>...</td>\n",
              "    </tr>\n",
              "    <tr>\n",
              "      <th>5274</th>\n",
              "      <td>90.0</td>\n",
              "      <td>1</td>\n",
              "      <td>1.0</td>\n",
              "      <td>0</td>\n",
              "      <td>0</td>\n",
              "      <td>0</td>\n",
              "      <td>0</td>\n",
              "      <td>0</td>\n",
              "      <td>1</td>\n",
              "      <td>0</td>\n",
              "      <td>0</td>\n",
              "      <td>0</td>\n",
              "      <td>0</td>\n",
              "    </tr>\n",
              "    <tr>\n",
              "      <th>5275</th>\n",
              "      <td>91.0</td>\n",
              "      <td>1</td>\n",
              "      <td>1.0</td>\n",
              "      <td>0</td>\n",
              "      <td>0</td>\n",
              "      <td>0</td>\n",
              "      <td>0</td>\n",
              "      <td>0</td>\n",
              "      <td>1</td>\n",
              "      <td>0</td>\n",
              "      <td>0</td>\n",
              "      <td>0</td>\n",
              "      <td>0</td>\n",
              "    </tr>\n",
              "    <tr>\n",
              "      <th>5276</th>\n",
              "      <td>86.0</td>\n",
              "      <td>1</td>\n",
              "      <td>1.0</td>\n",
              "      <td>0</td>\n",
              "      <td>0</td>\n",
              "      <td>0</td>\n",
              "      <td>0</td>\n",
              "      <td>0</td>\n",
              "      <td>1</td>\n",
              "      <td>0</td>\n",
              "      <td>0</td>\n",
              "      <td>0</td>\n",
              "      <td>0</td>\n",
              "    </tr>\n",
              "    <tr>\n",
              "      <th>5277</th>\n",
              "      <td>68.0</td>\n",
              "      <td>2</td>\n",
              "      <td>0.0</td>\n",
              "      <td>1</td>\n",
              "      <td>1</td>\n",
              "      <td>1</td>\n",
              "      <td>0</td>\n",
              "      <td>1</td>\n",
              "      <td>1</td>\n",
              "      <td>1</td>\n",
              "      <td>1</td>\n",
              "      <td>1</td>\n",
              "      <td>1</td>\n",
              "    </tr>\n",
              "    <tr>\n",
              "      <th>5278</th>\n",
              "      <td>78.0</td>\n",
              "      <td>1</td>\n",
              "      <td>1.0</td>\n",
              "      <td>1</td>\n",
              "      <td>1</td>\n",
              "      <td>1</td>\n",
              "      <td>0</td>\n",
              "      <td>0</td>\n",
              "      <td>1</td>\n",
              "      <td>1</td>\n",
              "      <td>1</td>\n",
              "      <td>0</td>\n",
              "      <td>0</td>\n",
              "    </tr>\n",
              "  </tbody>\n",
              "</table>\n",
              "<p>4988 rows × 13 columns</p>\n",
              "</div>"
            ],
            "text/plain": [
              "      age_yrs  vax_manu_num  sex_num  ...  symptom3_num  symptom4_num  symptom5_num\n",
              "0        23.0             1      1.0  ...             1             1             0\n",
              "1        23.0             1      0.0  ...             0             0             0\n",
              "2        68.0             2      1.0  ...             1             1             0\n",
              "3        55.0             2      0.0  ...             0             0             0\n",
              "4        52.0             2      1.0  ...             1             0             0\n",
              "...       ...           ...      ...  ...           ...           ...           ...\n",
              "5274     90.0             1      1.0  ...             0             0             0\n",
              "5275     91.0             1      1.0  ...             0             0             0\n",
              "5276     86.0             1      1.0  ...             0             0             0\n",
              "5277     68.0             2      0.0  ...             1             1             1\n",
              "5278     78.0             1      1.0  ...             1             0             0\n",
              "\n",
              "[4988 rows x 13 columns]"
            ]
          },
          "metadata": {
            "tags": []
          },
          "execution_count": 185
        }
      ]
    },
    {
      "cell_type": "code",
      "metadata": {
        "id": "CjBNtWMO8wOi"
      },
      "source": [
        "from numpy import mean\n",
        "from numpy import std\n",
        "from sklearn.datasets import make_multilabel_classification\n",
        "from sklearn.model_selection import RepeatedKFold\n",
        "from keras.models import Sequential\n",
        "from keras.layers import Dense\n",
        "from sklearn.metrics import accuracy_score\n",
        "import numpy as np\n",
        "import tensorflow as tf"
      ],
      "execution_count": 359,
      "outputs": []
    },
    {
      "cell_type": "code",
      "metadata": {
        "id": "onyBHdb1Br_z"
      },
      "source": [
        "def get_model(n_inputs, n_outputs):\n",
        "  model = Sequential()\n",
        "  model.add(Dense(20, input_dim=n_inputs, kernel_initializer='he_uniform', activation='relu'))\n",
        "  model.add(Dense(n_outputs, activation='sigmoid'))\n",
        "  model.compile(loss='categorical_crossentropy', optimizer='adam')\n",
        "  return model"
      ],
      "execution_count": 360,
      "outputs": []
    },
    {
      "cell_type": "code",
      "metadata": {
        "id": "zgs9VX6MBudZ"
      },
      "source": [
        "def evaluate_model(model, X, y):\n",
        "  results = list()\n",
        "  results_loss = list()\n",
        "  n_inputs, n_outputs = X.shape[1], y.shape[1]\n",
        "# define evaluation procedure\n",
        "  cv = RepeatedKFold(n_splits=10, n_repeats=3, random_state=1)\n",
        "# enumerate folds\n",
        "  for train_ix, test_ix in cv.split(X):\n",
        "   # prepare data\n",
        "    X_train, X_test = X[train_ix], X[test_ix]\n",
        "    y_train, y_test = y[train_ix], y[test_ix]\n",
        "    # X_train, y_train= X, y\n",
        "    model_f = model\n",
        "    model_f.fit(X_train, y_train, verbose=0, epochs=1)\n",
        "    yhat = model_f.predict(X_train)\n",
        "    yhat = yhat.round()\n",
        "    acc = accuracy_score(y_train, yhat)\n",
        "    count_tot = 0\n",
        "    count_cor = 0\n",
        "    for i in range(len(yhat)):\n",
        "      for j in range(len(yhat[i])):\n",
        "        if(yhat[i][j]==y_train[i][j]):\n",
        "          count_cor+=1.0\n",
        "        count_tot += 1.0\n",
        "    cce = tf.keras.losses.CategoricalCrossentropy()\n",
        "    loss = cce(y_train, yhat).numpy()\n",
        "    acc = count_cor/count_tot\n",
        "    results.append(acc)\n",
        "    results_loss.append(loss)\n",
        "  return str(count_cor/count_tot)\n"
      ],
      "execution_count": 517,
      "outputs": []
    },
    {
      "cell_type": "code",
      "metadata": {
        "id": "14PBcNGLIXvA"
      },
      "source": [
        "def evaluate_only(model, X, y):\n",
        "  yhat = model.predict(X)\n",
        "  yhat = yhat.round()\n",
        "  acc = accuracy_score(y, yhat)\n",
        "  print('>%.3f' % acc)\n",
        "  results.append(acc)\n",
        "  return results\n"
      ],
      "execution_count": 362,
      "outputs": []
    },
    {
      "cell_type": "code",
      "metadata": {
        "id": "VpY8Ji_XEufq"
      },
      "source": [
        "def getWeights(model):\n",
        "    return model.get_weights()\n",
        "\n",
        "def setWeights(model,weight):\n",
        "    model.set_weights(weight)"
      ],
      "execution_count": 272,
      "outputs": []
    },
    {
      "cell_type": "code",
      "metadata": {
        "id": "eMGwvZuFFsho"
      },
      "source": [
        "class Aggregator():\n",
        "    \n",
        "    def __init__(self):\n",
        "        self.wB1=0.33\n",
        "        self.wB2=0.33\n",
        "        self.wB3=0.33\n",
        "    \n",
        "    def aggregate(self,delta, ):\n",
        "        delta=np.array(delta)\n",
        "        tmp = s/12\n",
        "        temp=(self.wB1*np.array(B1) + self.wB2*np.array(B2) + self.wB3*np.array(B3))\n",
        "        delta = tmp\n",
        "        \n",
        "        return delta"
      ],
      "execution_count": 334,
      "outputs": []
    },
    {
      "cell_type": "code",
      "metadata": {
        "id": "NT858WR4-AOW"
      },
      "source": [
        "sample_dataset = vaers_merge_final.sample(n=300)\n",
        "X = sample_dataset.iloc[:,: -5]\n",
        "Y = sample_dataset.iloc[:,-5: ]\n",
        "Xz = X.to_numpy()\n",
        "Yz = Y.to_numpy()"
      ],
      "execution_count": 511,
      "outputs": []
    },
    {
      "cell_type": "code",
      "metadata": {
        "id": "xsX0crFYEeTk"
      },
      "source": [
        "X = vaers_merge_final.iloc[:,: -5]\n",
        "Y = vaers_merge_final.iloc[:,-5: ]\n",
        "Xz = X.to_numpy()\n",
        "Yz = Y.to_numpy()"
      ],
      "execution_count": 512,
      "outputs": []
    },
    {
      "cell_type": "code",
      "metadata": {
        "id": "hFo4mo2pAa02"
      },
      "source": [
        "s1 = vaers_merge_final[0:300][:]\n",
        "s2 = vaers_merge_final[300:600][:]\n",
        "s3 = vaers_merge_final[600:900][:]\n",
        "s4 = vaers_merge_final[900:1200][:]\n",
        "s5 = vaers_merge_final[1200:1500][:]\n",
        "s6 = vaers_merge_final[1800:2100][:]\n",
        "s7 = vaers_merge_final[2100:2400][:]\n",
        "s8 = vaers_merge_final[2400:2700][:]\n",
        "s9 = vaers_merge_final[2700:3000][:]\n",
        "s10 = vaers_merge_final[3000:3300][:]\n",
        "s11 = vaers_merge_final[3300:3600][:]\n",
        "s12 = vaers_merge_final[3600:3900][:]\n",
        "sG = vaers_merge_final[3900: ][:]\n",
        "\n",
        "X1 = s1.iloc[:,: -5]\n",
        "Y1= s1.iloc[:,-5: ]\n",
        "X2 = s2.iloc[:,: -5]\n",
        "Y2 = s2.iloc[:,-5: ]\n",
        "X3 = s3.iloc[:,: -5]\n",
        "Y3 = s3.iloc[:,-5: ]\n",
        "X4 = s4.iloc[:,: -5]\n",
        "Y4= s4.iloc[:,-5: ]\n",
        "X5 = s5.iloc[:,: -5]\n",
        "Y5 = s5.iloc[:,-5: ]\n",
        "X6 = s6.iloc[:,: -5]\n",
        "Y6 = s6.iloc[:,-5: ]\n",
        "X7 = s7.iloc[:,: -5]\n",
        "Y7 = s7.iloc[:,-5: ]\n",
        "X8 = s8.iloc[:,: -5]\n",
        "Y8= s8.iloc[:,-5: ]\n",
        "X9 = s9.iloc[:,: -5]\n",
        "Y9 = s9.iloc[:,-5: ]\n",
        "X10 = s10.iloc[:,: -5]\n",
        "Y10 = s10.iloc[:,-5: ]\n",
        "X11 = s11.iloc[:,: -5]\n",
        "Y11= s11.iloc[:,-5: ]\n",
        "X12 = s12.iloc[:,: -5]\n",
        "Y12= s12.iloc[:,-5: ]\n",
        "XG = sG.iloc[:,: -5]\n",
        "YG= sG.iloc[:,-5: ]\n",
        "\n",
        "\n",
        "\n",
        "test_features = X1.to_numpy()\n",
        "test_labels = Y1.to_numpy()\n",
        "X2z = X2.to_numpy()\n",
        "Y2z = Y2.to_numpy()\n",
        "X3z = X3.to_numpy()\n",
        "Y3z = Y3.to_numpy()\n",
        "X4z = X4.to_numpy()\n",
        "Y4z = Y4.to_numpy()\n",
        "X5z = X5.to_numpy()\n",
        "Y5z = Y5.to_numpy()\n",
        "X6z = X6.to_numpy()\n",
        "Y6z = Y6.to_numpy()\n",
        "X7z = X7.to_numpy()\n",
        "Y7z = Y7.to_numpy()\n",
        "X8z = X8.to_numpy()\n",
        "Y8z = Y8.to_numpy()\n",
        "X9z = X9.to_numpy()\n",
        "Y9z = Y9.to_numpy()\n",
        "X10z = X10.to_numpy()\n",
        "Y10z = Y10.to_numpy()\n",
        "X11z = X11.to_numpy()\n",
        "Y11z = Y11.to_numpy()\n",
        "X12z = X12.to_numpy()\n",
        "Y12z = Y12.to_numpy()\n",
        "XGz = XG.to_numpy()\n",
        "YGz = YG.to_numpy()\n"
      ],
      "execution_count": 476,
      "outputs": []
    },
    {
      "cell_type": "code",
      "metadata": {
        "id": "4YAf77HDVMZT"
      },
      "source": [
        ""
      ],
      "execution_count": 375,
      "outputs": []
    },
    {
      "cell_type": "code",
      "metadata": {
        "id": "OBnpL7LfCKRi"
      },
      "source": [
        "n1_inputs, n1_outputs = X1z.shape[1], Y1z.shape[1]\n",
        "n2_inputs, n2_outputs = X2z.shape[1], Y2z.shape[1]\n",
        "n3_inputs, n3_outputs = X3z.shape[1], Y3z.shape[1]\n",
        "n4_inputs, n4_outputs = X4z.shape[1], Y4z.shape[1]\n",
        "n5_inputs, n5_outputs = X5z.shape[1], Y5z.shape[1]\n",
        "n6_inputs, n6_outputs = X6z.shape[1], Y6z.shape[1]\n",
        "n7_inputs, n7_outputs = X7z.shape[1], Y7z.shape[1]\n",
        "n8_inputs, n8_outputs = X8z.shape[1], Y8z.shape[1]\n",
        "n9_inputs, n9_outputs = X9z.shape[1], Y9z.shape[1]\n",
        "n10_inputs, n10_outputs = X10z.shape[1], Y10z.shape[1]\n",
        "n11_inputs, n11_outputs = X11z.shape[1], Y11z.shape[1]\n",
        "n12_inputs, n12_outputs = X12z.shape[1], Y12z.shape[1]\n",
        "nG_inputs, nG_outputs = XGz.shape[1], YGz.shape[1]\n",
        "\n",
        "\n",
        "user1_model = get_model(n1_inputs, n1_outputs)\n",
        "model2 = get_model(n2_inputs, n2_outputs)\n",
        "model3 = get_model(n3_inputs, n3_outputs)\n",
        "model4 = get_model(n4_inputs, n4_outputs)\n",
        "model5 = get_model(n5_inputs, n5_outputs)\n",
        "model6 = get_model(n6_inputs, n6_outputs)\n",
        "model7 = get_model(n7_inputs, n7_outputs)\n",
        "model8 = get_model(n8_inputs, n8_outputs)\n",
        "model9 = get_model(n9_inputs, n9_outputs)\n",
        "model10 = get_model(n10_inputs, n10_outputs)\n",
        "model11 = get_model(n11_inputs, n11_outputs)\n",
        "model12 = get_model(n12_inputs, n12_outputs)\n",
        "federated_model = get_model(nG_inputs, nG_outputs)\n",
        "model_all = get_model(n12_inputs, n12_outputs)\n",
        "\n",
        "\n"
      ],
      "execution_count": 501,
      "outputs": []
    },
    {
      "cell_type": "markdown",
      "metadata": {
        "id": "A9cLVdmG1dnC"
      },
      "source": [
        "**Evaluating the model on a singel user data**\n"
      ]
    },
    {
      "cell_type": "code",
      "metadata": {
        "colab": {
          "base_uri": "https://localhost:8080/"
        },
        "id": "C6N9LEX9cnhW",
        "outputId": "a9ccb177-081b-488e-9ed7-954e6a82096a"
      },
      "source": [
        "# evaluating model trained with data obtained from a single user  on test data.\n",
        "result_user_1 = evaluate_model(user1_model, test_features, test_labels) \n",
        "print(\"Checking accuracy on Test Data\")\n",
        "print(result_user_1)"
      ],
      "execution_count": 497,
      "outputs": [
        {
          "output_type": "stream",
          "text": [
            "Checking accuracy on Test Data\n",
            "0.5228571428571429\n"
          ],
          "name": "stdout"
        }
      ]
    },
    {
      "cell_type": "markdown",
      "metadata": {
        "id": "XNW5bGKV34rQ"
      },
      "source": [
        "**-----------------------------------------------------**"
      ]
    },
    {
      "cell_type": "code",
      "metadata": {
        "colab": {
          "base_uri": "https://localhost:8080/"
        },
        "id": "aIofYWs5tOtI",
        "outputId": "bf2f7af1-e7cc-4b5b-91ad-e1ad824f0f08"
      },
      "source": [
        "test_features.shape"
      ],
      "execution_count": 480,
      "outputs": [
        {
          "output_type": "execute_result",
          "data": {
            "text/plain": [
              "(300, 8)"
            ]
          },
          "metadata": {
            "tags": []
          },
          "execution_count": 480
        }
      ]
    },
    {
      "cell_type": "markdown",
      "metadata": {
        "id": "P4My8vnu10XN"
      },
      "source": [
        "**Evaluating horizontal federated trained model**"
      ]
    },
    {
      "cell_type": "code",
      "metadata": {
        "colab": {
          "base_uri": "https://localhost:8080/"
        },
        "id": "9sCEQLfcs9wb",
        "outputId": "faa218a8-dd4e-41ca-c0df-e64f02eaad9d"
      },
      "source": [
        "# evaluating federated model on test data.\n",
        "result_federated_model = evaluate_model(federated_model, test_features, test_labels) \n",
        "print(\"Checking accuracy on Test Data\")\n",
        "print(result_federated_model)"
      ],
      "execution_count": 518,
      "outputs": [
        {
          "output_type": "stream",
          "text": [
            "Checking accuracy on Test Data\n",
            "0.61\n"
          ],
          "name": "stdout"
        }
      ]
    },
    {
      "cell_type": "markdown",
      "metadata": {
        "id": "ktg6tuBL328W"
      },
      "source": [
        "**-----------------------------------------------------**"
      ]
    },
    {
      "cell_type": "markdown",
      "metadata": {
        "id": "KuJHQwUs1-UG"
      },
      "source": [
        "**Evaluting model trained on entire dataset**"
      ]
    },
    {
      "cell_type": "code",
      "metadata": {
        "colab": {
          "base_uri": "https://localhost:8080/"
        },
        "id": "iYtj3Qcguf7a",
        "outputId": "d8989f30-acd9-49ea-a485-660dffe881da"
      },
      "source": [
        "# evaluating train model on complete test data.\n",
        "result_full_model = evaluate_model(model_all, test_features, test_labels) \n",
        "print(\"Checking accuracy on Test Data\")\n",
        "print(result_full_model)"
      ],
      "execution_count": 515,
      "outputs": [
        {
          "output_type": "stream",
          "text": [
            "Checking accuracy on Test Data\n",
            "0.6365217391304347\n"
          ],
          "name": "stdout"
        }
      ]
    },
    {
      "cell_type": "markdown",
      "metadata": {
        "id": "BW1mO-8v3xJI"
      },
      "source": [
        "**-----------------------------------------------------**"
      ]
    },
    {
      "cell_type": "code",
      "metadata": {
        "id": "EMOVhG8lD5uV"
      },
      "source": [
        "# Training 12 clients\n",
        "res1 = evaluate_model(model1, X1z, Y1z) #evaluation and training\n",
        "res2 = evaluate_model(model2, X2z, Y2z)\n",
        "res3 = evaluate_model(model3, X3z, Y3z)\n",
        "res4 = evaluate_model(model4, X4z, Y4z) #evaluation and training\n",
        "res5 = evaluate_model(model5, X5z, Y5z)\n",
        "res6 = evaluate_model(model6, X6z, Y6z)\n",
        "res7 = evaluate_model(model7, X7z, Y7z) #evaluation and training\n",
        "res8 = evaluate_model(model8, X8z, Y8z)\n",
        "res9 = evaluate_model(model9, X9z, Y9z)\n",
        "res10 = evaluate_model(model10, X10z, Y10z) #evaluation and training\n",
        "res11 = evaluate_model(model11, X11z, Y11z)\n",
        "res12 = evaluate_model(model12, X12z, Y12z)\n",
        "res12 = evaluate_model(modelG, XGz, YGz)\n",
        "\n",
        "print(\"results: \")\n",
        "print(res1[-1])\n",
        "print(res2[-1])\n",
        "print(res3[-1])\n",
        "print(res4[-1])\n",
        "print(res5[-1])\n",
        "print(res6[-1])\n",
        "print(res7[-1])\n",
        "print(res8[-1])\n",
        "print(res9[-1])\n",
        "print(res10[-1])\n",
        "print(res11[-1])\n",
        "print(res12[-1])\n",
        "print(resG[-1])\n",
        "\n"
      ],
      "execution_count": null,
      "outputs": []
    }
  ]
}